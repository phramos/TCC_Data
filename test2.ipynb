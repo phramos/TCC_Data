{
  "nbformat": 4,
  "nbformat_minor": 0,
  "metadata": {
    "colab": {
      "name": "Untitled23.ipynb",
      "provenance": [],
      "private_outputs": true,
      "include_colab_link": true
    },
    "kernelspec": {
      "name": "python3",
      "display_name": "Python 3"
    }
  },
  "cells": [
    {
      "cell_type": "markdown",
      "metadata": {
        "id": "view-in-github",
        "colab_type": "text"
      },
      "source": [
        "<a href=\"https://colab.research.google.com/github/MathMachado/eDreams/blob/master/test2.ipynb\" target=\"_parent\"><img src=\"https://colab.research.google.com/assets/colab-badge.svg\" alt=\"Open In Colab\"/></a>"
      ]
    },
    {
      "cell_type": "markdown",
      "metadata": {
        "id": "17LuXi1voKCf",
        "colab_type": "text"
      },
      "source": [
        "# Import main Python libraries\n",
        "\n"
      ]
    },
    {
      "cell_type": "code",
      "metadata": {
        "id": "fQy1h2RVoVxf",
        "colab_type": "code",
        "colab": {}
      },
      "source": [
        "!pip install bamboolib"
      ],
      "execution_count": 0,
      "outputs": []
    },
    {
      "cell_type": "code",
      "metadata": {
        "id": "aIMVpjquns-S",
        "colab_type": "code",
        "colab": {}
      },
      "source": [
        "import pandas as pd\n",
        "import numpy as np\n",
        "\n",
        "import matplotlib\n",
        "import bamboolib\n",
        "import matplotlib.pyplot as plt\n",
        "import seaborn as sns\n",
        "%matplotlib inline"
      ],
      "execution_count": 0,
      "outputs": []
    },
    {
      "cell_type": "code",
      "metadata": {
        "id": "tWfL-XJFnZIp",
        "colab_type": "code",
        "colab": {}
      },
      "source": [
        "url_train= \"https://raw.githubusercontent.com/MathMachado/eDreams/master/Dataframes/train.csv?token=AGDJQ67D2WENLE2YEMFJBPC5SHK26\"\n",
        "url_test= \"https://raw.githubusercontent.com/MathMachado/eDreams/master/Dataframes/test.csv?token=AGDJQ6YYHJOGUATPKWUASIK5SSGF6\"\n",
        "\n",
        "# empilhando as amostras de treinamento e validação para fazermos um único tratamento\n",
        "df_train= pd.read_csv(url_train, sep= \";\", index_col='ID', parse_dates = ['DEPARTURE', 'ARRIVAL'])\n",
        "df_test= pd.read_csv(url_test, sep= \";\", index_col='ID', parse_dates = ['DEPARTURE', 'ARRIVAL'])\n",
        "\n",
        "# redefinindo os índices da amostra de teste\n",
        "df_test.index= range(50000, 80000)\n",
        "\n",
        "# merge train and test\n",
        "df = df_train.append(df_test, sort= True)\n",
        "\n",
        "# Registra os índices do dataframe de treinamento e teste para separarmos estes dataframes mais tarde\n",
        "train_index = df_train.index\n",
        "test_index = df_test.index"
      ],
      "execution_count": 0,
      "outputs": []
    },
    {
      "cell_type": "code",
      "metadata": {
        "id": "EItCRxK9OWVv",
        "colab_type": "code",
        "colab": {}
      },
      "source": [
        "df.shape"
      ],
      "execution_count": 0,
      "outputs": []
    },
    {
      "cell_type": "code",
      "metadata": {
        "id": "HbkvqUL-PMmr",
        "colab_type": "code",
        "colab": {}
      },
      "source": [
        "df.head()"
      ],
      "execution_count": 0,
      "outputs": []
    },
    {
      "cell_type": "code",
      "metadata": {
        "id": "tDIkBDEaP_eA",
        "colab_type": "code",
        "colab": {}
      },
      "source": [
        "df.tail()"
      ],
      "execution_count": 0,
      "outputs": []
    },
    {
      "cell_type": "code",
      "metadata": {
        "id": "puYrD8S-QnuT",
        "colab_type": "code",
        "colab": {}
      },
      "source": [
        "df_test.head()"
      ],
      "execution_count": 0,
      "outputs": []
    },
    {
      "cell_type": "code",
      "metadata": {
        "id": "WpAcrYpUQEL6",
        "colab_type": "code",
        "colab": {}
      },
      "source": [
        "df_test.tail()"
      ],
      "execution_count": 0,
      "outputs": []
    },
    {
      "cell_type": "code",
      "metadata": {
        "id": "DWPMAIX1vMuM",
        "colab_type": "code",
        "colab": {}
      },
      "source": [
        "df.info()"
      ],
      "execution_count": 0,
      "outputs": []
    },
    {
      "cell_type": "code",
      "metadata": {
        "id": "myZk676JnqrI",
        "colab_type": "code",
        "colab": {}
      },
      "source": [
        "# Treating date type columns\n",
        "df2= df.copy()\n",
        "df2['DEPARTURE_2']= df2['DEPARTURE'] +'/2018'\n",
        "df2['ARRIVAL_2']= df2['ARRIVAL'] +'/2018'\n",
        "df2['ARRIVAL_3']= df2['ARRIVAL'] +'/2019'\n",
        "\n",
        "df2['DEPARTURE_2']= pd.to_datetime(df2['DEPARTURE_2'])\n",
        "df2['ARRIVAL_2']= pd.to_datetime(df2['ARRIVAL_2'])\n",
        "df2['ARRIVAL_3']= pd.to_datetime(df2['ARRIVAL_3'])\n",
        "df2.head()"
      ],
      "execution_count": 0,
      "outputs": []
    },
    {
      "cell_type": "code",
      "metadata": {
        "id": "rPmXrFBFuLt_",
        "colab_type": "code",
        "colab": {}
      },
      "source": [
        "# Fixing ARRIVAL when ARRIVAL < DEPARTURE\n",
        "df3= df2.copy()\n",
        "df3['IS_ARRIVAL_BEFORE_DEPARTURE']= df3['ARRIVAL_2']<df3['DEPARTURE_2']\n",
        "df3.loc[df3['IS_ARRIVAL_BEFORE_DEPARTURE'], 'ARRIVAL_2']= df3['ARRIVAL_3']"
      ],
      "execution_count": 0,
      "outputs": []
    },
    {
      "cell_type": "code",
      "metadata": {
        "id": "1ohReuC6Px3b",
        "colab_type": "code",
        "colab": {}
      },
      "source": [
        "# Calculating the differente between ARRIVAL and DEPARTURE\n",
        "df3['ARRIVAL_DEPARTURE']= df3['ARRIVAL_2']-df3['DEPARTURE_2']\n",
        "df3= df3.drop(columns= ['DEPARTURE','ARRIVAL','ARRIVAL_3', 'TIMESTAMP'], axis= 1)"
      ],
      "execution_count": 0,
      "outputs": []
    },
    {
      "cell_type": "markdown",
      "metadata": {
        "id": "T0y1M3huDHJt",
        "colab_type": "text"
      },
      "source": [
        "As we can see above, all rows of the dataframe refers to July."
      ]
    },
    {
      "cell_type": "code",
      "metadata": {
        "id": "aNGWYzhMuTJm",
        "colab_type": "code",
        "colab": {}
      },
      "source": [
        "df3.info()"
      ],
      "execution_count": 0,
      "outputs": []
    },
    {
      "cell_type": "markdown",
      "metadata": {
        "id": "Yczll7rA8eq_",
        "colab_type": "text"
      },
      "source": [
        "Aparentemente, temos alguns problemas de Missing Values para DEVICE. Não se preocupe com os Missing values da variável EXTRA_BAGGAGE que é nossa variável-resposta e os 30.000 Missing values apresentados vem da amostra de teste e são justamente os valores que queremos prever."
      ]
    },
    {
      "cell_type": "code",
      "metadata": {
        "id": "Jj3hAuvm4luL",
        "colab_type": "code",
        "colab": {}
      },
      "source": [
        "df3.head()"
      ],
      "execution_count": 0,
      "outputs": []
    },
    {
      "cell_type": "code",
      "metadata": {
        "id": "st9zbGSPCekA",
        "colab_type": "code",
        "colab": {}
      },
      "source": [
        "df3= df3.drop(columns= ['DEPARTURE_2','ARRIVAL_2'], axis= 1)"
      ],
      "execution_count": 0,
      "outputs": []
    },
    {
      "cell_type": "code",
      "metadata": {
        "id": "SKGY0hPj8uAf",
        "colab_type": "code",
        "colab": {}
      },
      "source": [
        "# Converting column DISTANCE to numeric. For this purpose, I'll cut the distance in the \",\"\n",
        "\n",
        "df3[['DISTANCE_2','DISTANCE_REST']] = df3['DISTANCE'].str.split(\",\",expand=True)\n",
        "df3['DISTANCE_2']= pd.to_numeric(df3['DISTANCE_2'])\n",
        "df3[['HAUL_TYPE','DISTANCE','DISTANCE_2','DISTANCE_REST']].head(10)"
      ],
      "execution_count": 0,
      "outputs": []
    },
    {
      "cell_type": "code",
      "metadata": {
        "id": "ck_pA2QIAIkx",
        "colab_type": "code",
        "colab": {}
      },
      "source": [
        "df3.groupby('HAUL_TYPE').agg({'DISTANCE_2': ['min', 'median', 'max', 'count']})"
      ],
      "execution_count": 0,
      "outputs": []
    },
    {
      "cell_type": "markdown",
      "metadata": {
        "id": "huvfr3jfAtbQ",
        "colab_type": "text"
      },
      "source": [
        "Alguma coisa errada com os valores mínimos. Não faz sentido DOMESTIC= 0. Muito menos INTERCONTINENTAL= 0. Vamos investigar um pouco mais isso a seguir. No entanto, vou trabalhar com DISTANCE_2 e desconsiderar DISTANCE_REST."
      ]
    },
    {
      "cell_type": "code",
      "metadata": {
        "id": "uQ2buWxxBEGx",
        "colab_type": "code",
        "colab": {}
      },
      "source": [
        "df4= df3.copy()\n",
        "df4= df4.drop(columns= ['DISTANCE_REST','DISTANCE', 'IS_ARRIVAL_BEFORE_DEPARTURE'], axis= 1)\n",
        "df4= df4.rename({'DISTANCE_2': 'DISTANCE'}, axis=1)\n",
        "df4.head()"
      ],
      "execution_count": 0,
      "outputs": []
    },
    {
      "cell_type": "code",
      "metadata": {
        "id": "jaKP87NP9NBs",
        "colab_type": "code",
        "colab": {}
      },
      "source": [
        "# Investigando DISTANCE = 0\n",
        "df4[df4['DISTANCE']==0].count()"
      ],
      "execution_count": 0,
      "outputs": []
    },
    {
      "cell_type": "markdown",
      "metadata": {
        "id": "mq8626SFDzW1",
        "colab_type": "text"
      },
      "source": [
        "Há 288 registros em que DISTANCE= 0. Eu considero estes registros como Missing Values. Como tratamento, proponho atribuir à estes casos a mediana segmentado por HAUL_TYPE. Ou seja"
      ]
    },
    {
      "cell_type": "code",
      "metadata": {
        "id": "n-1Uh4bHDj8M",
        "colab_type": "code",
        "colab": {}
      },
      "source": [
        "median_by__HAUL_TYPE= df4.groupby('HAUL_TYPE')['DISTANCE'].median()\n",
        "median_by__HAUL_TYPE"
      ],
      "execution_count": 0,
      "outputs": []
    },
    {
      "cell_type": "code",
      "metadata": {
        "id": "inI5b46mC59c",
        "colab_type": "code",
        "colab": {}
      },
      "source": [
        "# Median for DOMESTIC --> Vou usar este valor para os missing values de DISTANCE quando HAUL_TYPE= 'DOMESTIC'\n",
        "median_by__HAUL_TYPE[1]"
      ],
      "execution_count": 0,
      "outputs": []
    },
    {
      "cell_type": "code",
      "metadata": {
        "id": "w8US59Q_DIrj",
        "colab_type": "code",
        "colab": {}
      },
      "source": [
        "# Median for DOMESTIC --> Vou usar este valor para os missing values de DISTANCE quando HAUL_TYPE= 'INTERCONTINENTAL'\n",
        "median_by__HAUL_TYPE[2]"
      ],
      "execution_count": 0,
      "outputs": []
    },
    {
      "cell_type": "markdown",
      "metadata": {
        "id": "F-78FqEpEQzb",
        "colab_type": "text"
      },
      "source": [
        "Vou atribuir o valor 1237 para os Missing values do CONTINENTAL, 625 para os MV do DOMESTIC e 4051 para os MV do INTERCONTINENTAL."
      ]
    },
    {
      "cell_type": "code",
      "metadata": {
        "id": "1adzZo47EwjN",
        "colab_type": "code",
        "colab": {}
      },
      "source": [
        "# Identificando os MV. No caso, zeros\n",
        "df4.loc[df4['DISTANCE'] == 0, 'DISTANCE']= np.nan\n",
        "\n",
        "# Checking Missing Values\n",
        "df4.isna().sum()"
      ],
      "execution_count": 0,
      "outputs": []
    },
    {
      "cell_type": "markdown",
      "metadata": {
        "id": "RaAjeTcnH24a",
        "colab_type": "text"
      },
      "source": [
        "Vamos tratar os MV da coluna DISTANCE  e DEVICE a seguir:"
      ]
    },
    {
      "cell_type": "code",
      "metadata": {
        "id": "NFerujs2OUYt",
        "colab_type": "code",
        "colab": {}
      },
      "source": [
        "# Missing Value imputation for DOMESTIC\n",
        "df4['DISTANCE'] = np.where(((df4['DISTANCE'].isnull()) & (df4['HAUL_TYPE'] ==\"DOMESTIC\")), median_by__HAUL_TYPE[1], df4['DISTANCE'])\n",
        "\n",
        "# Missing Value imputation for INTERCONTINENTAL\n",
        "df4['DISTANCE'] = np.where(((df4['DISTANCE'].isnull()) & (df4['HAUL_TYPE'] ==\"INTERCONTINENTAL\")), median_by__HAUL_TYPE[2], df4['DISTANCE'])\n",
        "\n",
        "df4.groupby('HAUL_TYPE').agg({'DISTANCE': ['min', 'median', 'max', 'count']})"
      ],
      "execution_count": 0,
      "outputs": []
    },
    {
      "cell_type": "code",
      "metadata": {
        "id": "5_H6goQqPOwX",
        "colab_type": "code",
        "colab": {}
      },
      "source": [
        "# Checking Missing Values\n",
        "df4.isna().sum()"
      ],
      "execution_count": 0,
      "outputs": []
    },
    {
      "cell_type": "code",
      "metadata": {
        "id": "3hnjGvFkPhQF",
        "colab_type": "code",
        "colab": {}
      },
      "source": [
        "# Treating Missing Values of DEVICE\n",
        "df4['DEVICE'].value_counts() "
      ],
      "execution_count": 0,
      "outputs": []
    },
    {
      "cell_type": "code",
      "metadata": {
        "id": "dT7DglEqD14R",
        "colab_type": "code",
        "colab": {}
      },
      "source": [
        "# Replacing NaN's of DEVICE with 'NO DEVICE'\n",
        "df4[\"DEVICE\"].fillna(\"NO DEVICE\", inplace= True)\n",
        "\n",
        "# Checking Missing Values\n",
        "df4.isna().sum()"
      ],
      "execution_count": 0,
      "outputs": []
    },
    {
      "cell_type": "markdown",
      "metadata": {
        "id": "No6lri5nwJhu",
        "colab_type": "text"
      },
      "source": [
        "Como podemos observar acima, os missing values foram tratados."
      ]
    },
    {
      "cell_type": "code",
      "metadata": {
        "id": "Q3isnpVTEwIP",
        "colab_type": "code",
        "colab": {}
      },
      "source": [
        "# Treating Missing Values of DEVICE\n",
        "df4['DEVICE'].value_counts() "
      ],
      "execution_count": 0,
      "outputs": []
    },
    {
      "cell_type": "code",
      "metadata": {
        "id": "neux3RWbEzQf",
        "colab_type": "code",
        "colab": {}
      },
      "source": [
        "df5= df4.copy()\n",
        "df5.head()"
      ],
      "execution_count": 0,
      "outputs": []
    },
    {
      "cell_type": "markdown",
      "metadata": {
        "id": "-G_pCw2FUDhy",
        "colab_type": "text"
      },
      "source": [
        "# Tratando os outliers\n",
        "Considere o output a seguir:"
      ]
    },
    {
      "cell_type": "code",
      "metadata": {
        "id": "9HjMhbRJUMAw",
        "colab_type": "code",
        "colab": {}
      },
      "source": [
        "# Min, Max e Median ANTES do tratamento dos outliers\n",
        "df5.groupby('HAUL_TYPE').agg({'DISTANCE': ['min', 'median', 'max', 'count']})"
      ],
      "execution_count": 0,
      "outputs": []
    },
    {
      "cell_type": "code",
      "metadata": {
        "id": "W294A2UDXHJc",
        "colab_type": "code",
        "colab": {}
      },
      "source": [
        "sns.distplot(df5['DISTANCE'])"
      ],
      "execution_count": 0,
      "outputs": []
    },
    {
      "cell_type": "code",
      "metadata": {
        "id": "NtaWdM8kXhZ1",
        "colab_type": "code",
        "colab": {}
      },
      "source": [
        "# make boxplot with Catplot\n",
        "plt.rcdefaults()\n",
        "sns.catplot(x='HAUL_TYPE', y='DISTANCE', kind=\"box\", data=df5, height=5, aspect=2)\n",
        "plt.show()"
      ],
      "execution_count": 0,
      "outputs": []
    },
    {
      "cell_type": "markdown",
      "metadata": {
        "id": "EqotKETLefIl",
        "colab_type": "text"
      },
      "source": [
        "## Detecting Outliers with Z-Score\n",
        "> Wikipedia Definition\n",
        ">> The Z-score is the signed number of standard deviations by which the value of an observation or data point is above the mean value of what is being observed or measured."
      ]
    },
    {
      "cell_type": "code",
      "metadata": {
        "id": "9Wz2lErneMH2",
        "colab_type": "code",
        "colab": {}
      },
      "source": [
        "from scipy import stats\n",
        "threshold = 3\n",
        "\n",
        "# Z-Score para HAUL_TYPE== 'DOMESTIC'\n",
        "df_DOMESTIC= df5[df5['HAUL_TYPE']== 'DOMESTIC']\n",
        "\n",
        "# Z-Score para HAUL_TYPE== 'CONTINENTAL'\n",
        "df_CONTINENTAL= df5[df5['HAUL_TYPE']== 'CONTINENTAL']\n",
        "\n",
        "# Z-Score para HAUL_TYPE== 'INTERCONTINENTAL'\n",
        "df_INTERCONTINENTAL= df5[df5['HAUL_TYPE']== 'INTERCONTINENTAL']"
      ],
      "execution_count": 0,
      "outputs": []
    },
    {
      "cell_type": "code",
      "metadata": {
        "id": "WjSnYvRntbhq",
        "colab_type": "code",
        "colab": {}
      },
      "source": [
        "df_DOMESTIC['HAUL_TYPE'].value_counts() "
      ],
      "execution_count": 0,
      "outputs": []
    },
    {
      "cell_type": "code",
      "metadata": {
        "id": "ZFsx69SMtcyS",
        "colab_type": "code",
        "colab": {}
      },
      "source": [
        "df_CONTINENTAL['HAUL_TYPE'].value_counts() "
      ],
      "execution_count": 0,
      "outputs": []
    },
    {
      "cell_type": "code",
      "metadata": {
        "id": "IDaEnt_6tdcD",
        "colab_type": "code",
        "colab": {}
      },
      "source": [
        "df_INTERCONTINENTAL['HAUL_TYPE'].value_counts() "
      ],
      "execution_count": 0,
      "outputs": []
    },
    {
      "cell_type": "code",
      "metadata": {
        "id": "apF-hOuDnIQ8",
        "colab_type": "code",
        "colab": {}
      },
      "source": [
        "# Lista de todas as linhas onde HAUL_TYPE== 'DOMESTIC' e ZS_DOMESTIC > threshold\n",
        "ZS_DOMESTIC = np.abs(stats.zscore(df_DOMESTIC['DISTANCE']))\n",
        "\n",
        "# Lista de todas as linhas onde HAUL_TYPE== 'CONTINENTAL' e ZS_CONTINENTAL > threshold\n",
        "ZS_CONTINENTAL = np.abs(stats.zscore(df_CONTINENTAL['DISTANCE']))\n",
        "\n",
        "# Lista de todas as linhas onde HAUL_TYPE== 'INTERCONTINENTAL' e ZS_INTERCONTINENTAL > threshold\n",
        "ZS_INTERCONTINENTAL = np.abs(stats.zscore(df_INTERCONTINENTAL['DISTANCE']))"
      ],
      "execution_count": 0,
      "outputs": []
    },
    {
      "cell_type": "code",
      "metadata": {
        "id": "nwwe6cZFuRky",
        "colab_type": "code",
        "colab": {}
      },
      "source": [
        "Idx_DOMESTIC= np.where(ZS_DOMESTIC > threshold)\n",
        "Idx_CONTINENTAL= np.where(ZS_CONTINENTAL > threshold)\n",
        "Idx_INTERCONTINENTAL= np.where(ZS_INTERCONTINENTAL > threshold)"
      ],
      "execution_count": 0,
      "outputs": []
    },
    {
      "cell_type": "markdown",
      "metadata": {
        "id": "-0JWLxbbvCRX",
        "colab_type": "text"
      },
      "source": [
        "Todos os índices em Idx_DOMESTIC, Idx_CONTINENTAL e Idx_INTERCONTINENTAL possuem z-score > 3."
      ]
    },
    {
      "cell_type": "code",
      "metadata": {
        "id": "A0Ugcz8SfLe2",
        "colab_type": "code",
        "colab": {}
      },
      "source": [
        "# removing outliers based on ZS_DOMESTIC\n",
        "#df6= df5.drop(df5.index[Idx_DOMESTIC])\n",
        "df6.shape"
      ],
      "execution_count": 0,
      "outputs": []
    },
    {
      "cell_type": "code",
      "metadata": {
        "id": "pOykM4lwxplM",
        "colab_type": "code",
        "colab": {}
      },
      "source": [
        "# Número de linhas a serem deletadas devido ZS_DOMESTIC\n",
        "np.shape(Idx_DOMESTIC)[1]"
      ],
      "execution_count": 0,
      "outputs": []
    },
    {
      "cell_type": "code",
      "metadata": {
        "id": "FHiTuGq5wyoT",
        "colab_type": "code",
        "colab": {}
      },
      "source": [
        "# removing outliers based on ZS_CONTINENTAL\n",
        "df7= df6.drop(df6.index[Idx_CONTINENTAL])\n",
        "df7.shape"
      ],
      "execution_count": 0,
      "outputs": []
    },
    {
      "cell_type": "code",
      "metadata": {
        "id": "oDH0OAZ1x-ce",
        "colab_type": "code",
        "colab": {}
      },
      "source": [
        "# Número de linhas a serem deletadas devido ZS_CONTINENTAL\n",
        "np.shape(Idx_CONTINENTAL)[1]"
      ],
      "execution_count": 0,
      "outputs": []
    },
    {
      "cell_type": "code",
      "metadata": {
        "id": "xWuMfyRow6zp",
        "colab_type": "code",
        "colab": {}
      },
      "source": [
        "# removing outliers based on ZS_INTERCONTINENTAL\n",
        "df8= df7.drop(df7.index[Idx_INTERCONTINENTAL])\n",
        "df8.shape"
      ],
      "execution_count": 0,
      "outputs": []
    },
    {
      "cell_type": "code",
      "metadata": {
        "id": "g4wvpLg0yFTT",
        "colab_type": "code",
        "colab": {}
      },
      "source": [
        "# Número de linhas a serem deletadas devido ZS_INTERCONTINENTAL\n",
        "np.shape(Idx_INTERCONTINENTAL)[1]"
      ],
      "execution_count": 0,
      "outputs": []
    },
    {
      "cell_type": "code",
      "metadata": {
        "id": "ZG2AsSZwxJGR",
        "colab_type": "code",
        "colab": {}
      },
      "source": [
        "# Número de instâncias deletadas devido aos outliers\n",
        "80000-78794"
      ],
      "execution_count": 0,
      "outputs": []
    },
    {
      "cell_type": "code",
      "metadata": {
        "id": "G-ntF6YAwh0v",
        "colab_type": "code",
        "colab": {}
      },
      "source": [
        "# Min, Max e Median ANTES do tratamento dos outliers\n",
        "df5.groupby('HAUL_TYPE').agg({'DISTANCE': ['min', 'median', 'max', 'count']})"
      ],
      "execution_count": 0,
      "outputs": []
    },
    {
      "cell_type": "code",
      "metadata": {
        "id": "ljumdyr5wirH",
        "colab_type": "code",
        "colab": {}
      },
      "source": [
        "# Min, Max e Median DEPOIS do tratamento dos outliers\n",
        "df8.groupby('HAUL_TYPE').agg({'DISTANCE': ['min', 'median', 'max', 'count']})"
      ],
      "execution_count": 0,
      "outputs": []
    },
    {
      "cell_type": "markdown",
      "metadata": {
        "id": "sdtRA55EUUnR",
        "colab_type": "text"
      },
      "source": [
        "É estranho:\n",
        "* min(DISTANCE/HAUL_TYPE= CONTINENTAL)= 35;\n",
        "*"
      ]
    },
    {
      "cell_type": "markdown",
      "metadata": {
        "id": "n5nGTv5SF-JA",
        "colab_type": "text"
      },
      "source": [
        "# Binning variáveis numéricas"
      ]
    },
    {
      "cell_type": "code",
      "metadata": {
        "id": "pIf8bQdKGFbs",
        "colab_type": "code",
        "colab": {}
      },
      "source": [
        "# Variável resposta\n",
        "df4['EXTRA_BAGGAGE'].value_counts() "
      ],
      "execution_count": 0,
      "outputs": []
    },
    {
      "cell_type": "code",
      "metadata": {
        "id": "z222ue6OFJK6",
        "colab_type": "code",
        "colab": {}
      },
      "source": [
        ""
      ],
      "execution_count": 0,
      "outputs": []
    }
  ]
}