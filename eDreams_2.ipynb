{
  "nbformat": 4,
  "nbformat_minor": 0,
  "metadata": {
    "colab": {
      "name": "Untitled23.ipynb",
      "provenance": [],
      "private_outputs": true,
      "include_colab_link": true
    },
    "kernelspec": {
      "name": "python3",
      "display_name": "Python 3"
    },
    "accelerator": "GPU"
  },
  "cells": [
    {
      "cell_type": "markdown",
      "metadata": {
        "id": "view-in-github",
        "colab_type": "text"
      },
      "source": [
        "<a href=\"https://colab.research.google.com/github/MathMachado/eDreams/blob/master/eDreams_2.ipynb\" target=\"_parent\"><img src=\"https://colab.research.google.com/assets/colab-badge.svg\" alt=\"Open In Colab\"/></a>"
      ]
    },
    {
      "cell_type": "markdown",
      "metadata": {
        "id": "17LuXi1voKCf",
        "colab_type": "text"
      },
      "source": [
        "# Install & Load Main Python libraries\n",
        "\n"
      ]
    },
    {
      "cell_type": "code",
      "metadata": {
        "id": "aIMVpjquns-S",
        "colab_type": "code",
        "colab": {}
      },
      "source": [
        "import pandas as pd\n",
        "import numpy as np\n",
        "\n",
        "import matplotlib\n",
        "import matplotlib.pyplot as plt\n",
        "import seaborn as sns\n",
        "%matplotlib inline"
      ],
      "execution_count": 0,
      "outputs": []
    },
    {
      "cell_type": "markdown",
      "metadata": {
        "id": "nhymf5HmfuyW",
        "colab_type": "text"
      },
      "source": [
        "# Load dataframes: training & test sample"
      ]
    },
    {
      "cell_type": "code",
      "metadata": {
        "id": "tWfL-XJFnZIp",
        "colab_type": "code",
        "colab": {}
      },
      "source": [
        "url_train= \"https://raw.githubusercontent.com/MathMachado/eDreams/master/Dataframes/train.csv?token=AGDJQ6YO3T3X2CYDGGUPRO252KACE\"\n",
        "url_test= \"https://raw.githubusercontent.com/MathMachado/eDreams/master/Dataframes/test.csv?token=AGDJQ623H4TWE2QKQWENGA252KAD6\"\n",
        "\n",
        "# Stacking training and validation samples for a single treatment\n",
        "df_train= pd.read_csv(url_train, sep= \";\", index_col='ID', parse_dates = ['DEPARTURE', 'ARRIVAL'])\n",
        "df_test= pd.read_csv(url_test, sep= \";\", index_col='ID', parse_dates = ['DEPARTURE', 'ARRIVAL'])\n",
        "\n",
        "# Resetting the test sample indices\n",
        "df_test.index= range(50000, 80000)\n",
        "\n",
        "# merge train and test\n",
        "df = df_train.append(df_test, sort= True)\n",
        "\n",
        "# Records training and test dataframe indexes to separate these dataframes later\n",
        "train_index = df_train.index\n",
        "test_index = df_test.index"
      ],
      "execution_count": 0,
      "outputs": []
    },
    {
      "cell_type": "code",
      "metadata": {
        "id": "EItCRxK9OWVv",
        "colab_type": "code",
        "colab": {}
      },
      "source": [
        "df.shape"
      ],
      "execution_count": 0,
      "outputs": []
    },
    {
      "cell_type": "code",
      "metadata": {
        "id": "HbkvqUL-PMmr",
        "colab_type": "code",
        "colab": {}
      },
      "source": [
        "df.head()"
      ],
      "execution_count": 0,
      "outputs": []
    },
    {
      "cell_type": "code",
      "metadata": {
        "id": "tDIkBDEaP_eA",
        "colab_type": "code",
        "colab": {}
      },
      "source": [
        "df.tail()"
      ],
      "execution_count": 0,
      "outputs": []
    },
    {
      "cell_type": "code",
      "metadata": {
        "id": "puYrD8S-QnuT",
        "colab_type": "code",
        "colab": {}
      },
      "source": [
        "df_test.head()"
      ],
      "execution_count": 0,
      "outputs": []
    },
    {
      "cell_type": "code",
      "metadata": {
        "id": "WpAcrYpUQEL6",
        "colab_type": "code",
        "colab": {}
      },
      "source": [
        "df_test.tail()"
      ],
      "execution_count": 0,
      "outputs": []
    },
    {
      "cell_type": "code",
      "metadata": {
        "id": "DWPMAIX1vMuM",
        "colab_type": "code",
        "colab": {}
      },
      "source": [
        "df.info()"
      ],
      "execution_count": 0,
      "outputs": []
    },
    {
      "cell_type": "markdown",
      "metadata": {
        "id": "JDANOjiKf4Qh",
        "colab_type": "text"
      },
      "source": [
        "# Data Preparation"
      ]
    },
    {
      "cell_type": "code",
      "metadata": {
        "id": "vrH6yLyI_LIx",
        "colab_type": "code",
        "colab": {}
      },
      "source": [
        "df_T= df.copy()\n",
        "# Capturing the Company: First 2 positions of WEBSITE.\n",
        "df_T['COMPANY']= df_T['WEBSITE'].str[0:2].astype(str)\n",
        "\n",
        "# Capturing the Country: rest of the string of WEBSITE.\n",
        "df_T['COUNTRY']= df_T['WEBSITE'].str[2:len(df['WEBSITE'])].astype(str)\n",
        "\n",
        "df_T.head()"
      ],
      "execution_count": 0,
      "outputs": []
    },
    {
      "cell_type": "code",
      "metadata": {
        "id": "Qbiq3bb5BFOI",
        "colab_type": "code",
        "colab": {}
      },
      "source": [
        "df_T['COMPANY'].value_counts() "
      ],
      "execution_count": 0,
      "outputs": []
    },
    {
      "cell_type": "markdown",
      "metadata": {
        "id": "vL2tFUwhBdwB",
        "colab_type": "text"
      },
      "source": [
        "There's no 'TL'. So I'll replace 'TL' by 'MV'."
      ]
    },
    {
      "cell_type": "code",
      "metadata": {
        "id": "d3Wf9MUqBsof",
        "colab_type": "code",
        "colab": {}
      },
      "source": [
        "df_T['COMPANY']= df_T['COMPANY'].replace('TL', 'MV')\n",
        "df_T['COMPANY'].value_counts() "
      ],
      "execution_count": 0,
      "outputs": []
    },
    {
      "cell_type": "code",
      "metadata": {
        "id": "Uyo-zI5aAz62",
        "colab_type": "code",
        "colab": {}
      },
      "source": [
        "df_T['COUNTRY'].value_counts() "
      ],
      "execution_count": 0,
      "outputs": []
    },
    {
      "cell_type": "code",
      "metadata": {
        "id": "PE3dyQM56HBT",
        "colab_type": "code",
        "colab": {}
      },
      "source": [
        "# Corrigindo Poland Abbreviation\n",
        "df_T['COUNTRY']= df_T['COUNTRY'].replace({'PLC': 'PL'})\n",
        "\n",
        "# Corrigindo France Abbreviation\n",
        "df_T['COUNTRY']= df_T['COUNTRY'].replace({'FRC': 'FR'})\n",
        "\n",
        "# Corrigindo DEC Abbreviation\n",
        "df_T['COUNTRY']= df_T['COUNTRY'].replace({'DEC': 'DE'})\n",
        "\n",
        "# Corrigindo DEC Abbreviation\n",
        "df_T['COUNTRY']= df_T['COUNTRY'].replace({'DKC': 'DK'})\n",
        "\n",
        "df_T['COUNTRY'].value_counts() "
      ],
      "execution_count": 0,
      "outputs": []
    },
    {
      "cell_type": "code",
      "metadata": {
        "id": "P86wEaspCljP",
        "colab_type": "code",
        "colab": {}
      },
      "source": [
        "#df_T['COUNTRY']= df_T['COUNTRY'].replace(['PLC', 'DEC', 'DKC', 'FRC'], 'MV')\n",
        "#df_T['COUNTRY'].value_counts() "
      ],
      "execution_count": 0,
      "outputs": []
    },
    {
      "cell_type": "code",
      "metadata": {
        "id": "DjGHXqYODAbU",
        "colab_type": "code",
        "colab": {}
      },
      "source": [
        "df_T['COUNTRY']= df_T['COUNTRY'].replace(['UK'], 'GB')\n",
        "df_T['COUNTRY'].value_counts() "
      ],
      "execution_count": 0,
      "outputs": []
    },
    {
      "cell_type": "markdown",
      "metadata": {
        "id": "v7QRlW3cf6M5",
        "colab_type": "text"
      },
      "source": [
        "## Treating date variables\n",
        "> Since there is no information regarding the year of the transaction, I will assume that the transactions are from 2018 or 2019. I will assign the year conveniently from the analysis of the variables DEPARTURE and ARRIVAL."
      ]
    },
    {
      "cell_type": "code",
      "metadata": {
        "id": "myZk676JnqrI",
        "colab_type": "code",
        "colab": {}
      },
      "source": [
        "df2= df_T.copy()\n",
        "df2['DEPARTURE_WITH_YEAR']= df2['DEPARTURE'] +'/2018'\n",
        "df2['ARRIVAL_WITH_YEAR']= df2['ARRIVAL'] +'/2018'\n",
        "df2['ARRIVAL_WITH_YEAR_FIXED']= df2['ARRIVAL'] +'/2019'\n",
        "\n",
        "df2['DEPARTURE_WITH_YEAR']= pd.to_datetime(df2['DEPARTURE_WITH_YEAR'])\n",
        "df2['ARRIVAL_WITH_YEAR']= pd.to_datetime(df2['ARRIVAL_WITH_YEAR'])\n",
        "df2['ARRIVAL_WITH_YEAR_FIXED']= pd.to_datetime(df2['ARRIVAL_WITH_YEAR_FIXED'])\n",
        "df2.head()"
      ],
      "execution_count": 0,
      "outputs": []
    },
    {
      "cell_type": "markdown",
      "metadata": {
        "id": "haF1q_a0gKcu",
        "colab_type": "text"
      },
      "source": [
        "As we do not have year information, in some cases/rows we have ARRIVAL < DEPARTURE. Let's take a look in some cases where ARRIVAL < DEPARTURE:"
      ]
    },
    {
      "cell_type": "code",
      "metadata": {
        "id": "ucsI7q6LhjEQ",
        "colab_type": "code",
        "colab": {}
      },
      "source": [
        "df3= df2.copy()\n",
        "\n",
        "# I created the variable IS_ARRIVAL_BEFORE_DEPARTURE to help us identify when ARRIVAL < DEPARTURE:\n",
        "df3['IS_ARRIVAL_BEFORE_DEPARTURE']= df3['ARRIVAL_WITH_YEAR'] < df3['DEPARTURE_WITH_YEAR']\n",
        "\n",
        "# Fixing cases when ARRIVAL < DEPARTURE\n",
        "df3.loc[df3['IS_ARRIVAL_BEFORE_DEPARTURE']== True, 'ARRIVAL_WITH_YEAR']= df3['ARRIVAL_WITH_YEAR_FIXED']\n",
        "df3[['ARRIVAL', 'DEPARTURE', 'DEPARTURE_WITH_YEAR', 'ARRIVAL_WITH_YEAR']][df3['IS_ARRIVAL_BEFORE_DEPARTURE']== True].head()"
      ],
      "execution_count": 0,
      "outputs": []
    },
    {
      "cell_type": "markdown",
      "metadata": {
        "id": "eGfnRkrniBH3",
        "colab_type": "text"
      },
      "source": [
        "> Take for example line 15 (output above):\n",
        "* DEPARTURE= December 15th;\n",
        "* ARRIVAL= January 29th.\n",
        "\n",
        "> Without information for the year, then ARRIVAL < DEPARTURE. However, look at the variables DEPARTURE_WITH_YEAR and ARRIVAL_WITH_YEAR above:\n",
        "* DEPARTURE_WITH_YEAR= December 15th of 2018;\n",
        "* ARRIVAL_WITH_YEAR= January 29th of 2019.\n",
        "\n",
        "In this case, we fixed the problem.\n",
        "\n"
      ]
    },
    {
      "cell_type": "code",
      "metadata": {
        "id": "gtS019CfldHw",
        "colab_type": "code",
        "colab": {}
      },
      "source": [
        "# Drop the unnecessary variables:\n",
        "df3= df3.drop(columns= ['DEPARTURE', 'ARRIVAL', 'ARRIVAL_WITH_YEAR_FIXED', 'WEBSITE'])"
      ],
      "execution_count": 0,
      "outputs": []
    },
    {
      "cell_type": "markdown",
      "metadata": {
        "id": "_MknGmW_lGIz",
        "colab_type": "text"
      },
      "source": [
        "Next, we calculate the variable DIF_ARRIVAL_DEPARTURE = ARRIVAL_WITH_YEAR - DEPARTURE_WITH_YEAR:"
      ]
    },
    {
      "cell_type": "code",
      "metadata": {
        "id": "1ohReuC6Px3b",
        "colab_type": "code",
        "colab": {}
      },
      "source": [
        "# Calculate the variable DIF_ARRIVAL_DEPARTURE:\n",
        "df3['DIF_ARRIVAL_DEPARTURE']= (df3['ARRIVAL_WITH_YEAR']-df3['DEPARTURE_WITH_YEAR']).dt.days.astype(int)\n",
        "\n",
        "# Show some cases:\n",
        "df3[['DEPARTURE_WITH_YEAR', 'ARRIVAL_WITH_YEAR', 'DIF_ARRIVAL_DEPARTURE']].head() #[df3['IS_ARRIVAL_BEFORE_DEPARTURE']== True].head()"
      ],
      "execution_count": 0,
      "outputs": []
    },
    {
      "cell_type": "markdown",
      "metadata": {
        "id": "wb7YWHbtdvV-",
        "colab_type": "text"
      },
      "source": [
        "> Something strange with the variable DIF_ARRIVAL_DEPARTURE. Take a look at the line 2 (above). We have:\n",
        "* DEPARTURE_WITH_YEAR= 2018-07-29\n",
        "* ARRIVAL_WITH_YEAR= 2018-08-19\n",
        "\n",
        "It is 21 days between DEPARTURE and ARRIVAL!\n",
        "\n",
        "Let's take a look in some statistics below. For example, let's look at the proportion of cases where DIF_ARRIVAL_DEPARTURE > 5. I am using 5 as an example, but I consider 5 a long time between departure and arrival."
      ]
    },
    {
      "cell_type": "code",
      "metadata": {
        "id": "Bp6mCIkxO-ey",
        "colab_type": "code",
        "colab": {}
      },
      "source": [
        "df3_Zoom= df3[df3['DIF_ARRIVAL_DEPARTURE'] < 0]\n",
        "df3_Zoom.shape[0]"
      ],
      "execution_count": 0,
      "outputs": []
    },
    {
      "cell_type": "code",
      "metadata": {
        "id": "QDdSaImBoOhx",
        "colab_type": "code",
        "colab": {}
      },
      "source": [
        "df3_Zoom= df3[df3['DIF_ARRIVAL_DEPARTURE'] > 5]\n",
        "df3_Zoom.shape[0]"
      ],
      "execution_count": 0,
      "outputs": []
    },
    {
      "cell_type": "code",
      "metadata": {
        "id": "dCab0H3crqRr",
        "colab_type": "code",
        "colab": {}
      },
      "source": [
        "df3_Zoom.head()"
      ],
      "execution_count": 0,
      "outputs": []
    },
    {
      "cell_type": "markdown",
      "metadata": {
        "id": "7TAukV-OpJ9s",
        "colab_type": "text"
      },
      "source": [
        "Strangely, many cases over 5 days. \n",
        "\n",
        "Below, I present the distribution of the DIF_ARRIVAL_DEPARTURE variable. As we can see, there are cases older than 50 days!"
      ]
    },
    {
      "cell_type": "code",
      "metadata": {
        "id": "dfyphUD8ecHe",
        "colab_type": "code",
        "colab": {}
      },
      "source": [
        "sns.distplot(df3['DIF_ARRIVAL_DEPARTURE'])"
      ],
      "execution_count": 0,
      "outputs": []
    },
    {
      "cell_type": "markdown",
      "metadata": {
        "id": "5bp0-Ym9fENa",
        "colab_type": "text"
      },
      "source": [
        "Below I present some descriptive statistics for ARRIVAL_DEPARTURE."
      ]
    },
    {
      "cell_type": "markdown",
      "metadata": {
        "id": "AZZpOTs8qpeW",
        "colab_type": "text"
      },
      "source": [
        "Let's take a look at the Boxplot:"
      ]
    },
    {
      "cell_type": "code",
      "metadata": {
        "id": "k8M4TUXJfDDz",
        "colab_type": "code",
        "colab": {}
      },
      "source": [
        "plt.rcdefaults()\n",
        "sns.catplot(y='DIF_ARRIVAL_DEPARTURE', kind=\"box\", data=df3, height=4, aspect=1.5)\n",
        "plt.show()"
      ],
      "execution_count": 0,
      "outputs": []
    },
    {
      "cell_type": "code",
      "metadata": {
        "colab_type": "code",
        "id": "t8WnF3yIZxet",
        "colab": {}
      },
      "source": [
        "df3['TRIP_TYPE'].value_counts() "
      ],
      "execution_count": 0,
      "outputs": []
    },
    {
      "cell_type": "markdown",
      "metadata": {
        "id": "BWh7qJmLuDF-",
        "colab_type": "text"
      },
      "source": [
        "Function to detect Outliers based on IQR-Score:"
      ]
    },
    {
      "cell_type": "code",
      "metadata": {
        "id": "FEbNTzAzo-4l",
        "colab_type": "code",
        "colab": {}
      },
      "source": [
        "# Function that identify outlier using IQR-Score:\n",
        "def IQR_Score_Outlier_Detect(df, column):\n",
        "    #global df_T\n",
        "\n",
        "    Q1 = df[column].quantile(0.25)\n",
        "    Q3 = df[column].quantile(0.75)\n",
        "    IQR = Q3 - Q1\n",
        "    Lim_Inf= Q1-1.5*IQR\n",
        "    Lim_Sup= Q3+1.5*IQR\n",
        "    print(Lim_Inf, Lim_Sup)\n",
        "\n",
        "    # Identify the outlier\n",
        "    df[column+'_OUTLIER_IQR']= np.where(((df[column] < Lim_Inf)), True, False)\n",
        "    df[column+'_OUTLIER_IQR']= np.where(((df[column] > Lim_Sup)), True, False)\n",
        "\n",
        "    # Replace outliers by Lim_Inf and Lim_Sup\n",
        "    df[column+'_IQR'] = np.where(((df[column] < Lim_Inf)), Lim_Inf, df[column])\n",
        "    df[column+'_IQR'] = np.where(((df[column] > Lim_Sup)), Lim_Sup, df[column])   "
      ],
      "execution_count": 0,
      "outputs": []
    },
    {
      "cell_type": "code",
      "metadata": {
        "id": "nZudB5Il9jqB",
        "colab_type": "code",
        "colab": {}
      },
      "source": [
        "# Normalizando:\n",
        "from sklearn.preprocessing import StandardScaler, MinMaxScaler\n",
        "\n",
        "scaler_MinMaxScaler = MinMaxScaler()\n",
        "scaler_StandardScaler = StandardScaler()"
      ],
      "execution_count": 0,
      "outputs": []
    },
    {
      "cell_type": "code",
      "metadata": {
        "id": "W5ONAqNp-NBA",
        "colab_type": "code",
        "colab": {}
      },
      "source": [
        "df4= df3.copy()\n",
        "df4['DIF_ARRIVAL_DEPARTURE_S']= df4['DIF_ARRIVAL_DEPARTURE']\n",
        "df4['DIF_ARRIVAL_DEPARTURE_2']= df4['DIF_ARRIVAL_DEPARTURE']\n",
        "df4.head()"
      ],
      "execution_count": 0,
      "outputs": []
    },
    {
      "cell_type": "code",
      "metadata": {
        "id": "4AueLXZl_dKd",
        "colab_type": "code",
        "colab": {}
      },
      "source": [
        "df4['DIF_ARRIVAL_DEPARTURE_S']= scaler_MinMaxScaler.fit_transform(df4[['DIF_ARRIVAL_DEPARTURE_S']])\n",
        "df4.head()"
      ],
      "execution_count": 0,
      "outputs": []
    },
    {
      "cell_type": "code",
      "metadata": {
        "id": "_MIqCcoHtqX0",
        "colab_type": "code",
        "colab": {}
      },
      "source": [
        "IQR_Score_Outlier_Detect(df4,'DIF_ARRIVAL_DEPARTURE_2')\n",
        "df4[['DIF_ARRIVAL_DEPARTURE_2', 'DIF_ARRIVAL_DEPARTURE_2_IQR']].loc[df4['DIF_ARRIVAL_DEPARTURE_2_OUTLIER_IQR'] == True]"
      ],
      "execution_count": 0,
      "outputs": []
    },
    {
      "cell_type": "code",
      "metadata": {
        "id": "MecuYMd_c53G",
        "colab_type": "code",
        "colab": {}
      },
      "source": [
        "# Deleting Unneeded Variables\n",
        "df5= df4.copy()\n",
        "df5= df5.drop(columns= ['TIMESTAMP','DEPARTURE_WITH_YEAR','ARRIVAL_WITH_YEAR', 'IS_ARRIVAL_BEFORE_DEPARTURE'], axis= 1)"
      ],
      "execution_count": 0,
      "outputs": []
    },
    {
      "cell_type": "markdown",
      "metadata": {
        "id": "9Sr8TfeK9OCi",
        "colab_type": "text"
      },
      "source": [
        "## Handling Missing Values"
      ]
    },
    {
      "cell_type": "code",
      "metadata": {
        "id": "aNGWYzhMuTJm",
        "colab_type": "code",
        "colab": {}
      },
      "source": [
        "df5.info()"
      ],
      "execution_count": 0,
      "outputs": []
    },
    {
      "cell_type": "markdown",
      "metadata": {
        "id": "Yczll7rA8eq_",
        "colab_type": "text"
      },
      "source": [
        "> Apparently we have some problems from Missing Values to DEVICE. Don't worry about the Missing values of the EXTRA_BAGGAGE variable that is our response variable and the 30,000 Missing values presented come from the test sample and are just the values we want to predict."
      ]
    },
    {
      "cell_type": "code",
      "metadata": {
        "id": "SKGY0hPj8uAf",
        "colab_type": "code",
        "colab": {}
      },
      "source": [
        "# Converting column DISTANCE to numeric. For this purpose, I'll cut the distance in the \",\"\n",
        "df6= df5.copy()\n",
        "df6[['DISTANCE_2','DISTANCE_REST']] = df6['DISTANCE'].str.split(\",\",expand=True)\n",
        "df6['DISTANCE_2']= pd.to_numeric(df6['DISTANCE_2'])\n",
        "df6[['HAUL_TYPE','DISTANCE','DISTANCE_2','DISTANCE_REST']].head(10)"
      ],
      "execution_count": 0,
      "outputs": []
    },
    {
      "cell_type": "markdown",
      "metadata": {
        "id": "huvfr3jfAtbQ",
        "colab_type": "text"
      },
      "source": [
        "Something strange with the minimum of DISTANCE_2. No sense DOMESTIC = 0. Much less INTERCONTINENTAL = 0. Let's investigate this a little further. However, I will work with DISTANCE_2 (following I will rename DISTANCE_2 TO DISTANCE) and disregard DISTANCE_REST."
      ]
    },
    {
      "cell_type": "code",
      "metadata": {
        "id": "uQ2buWxxBEGx",
        "colab_type": "code",
        "colab": {}
      },
      "source": [
        "df6= df6.drop(columns= ['DISTANCE_REST','DISTANCE'], axis= 1)\n",
        "df6= df6.rename({'DISTANCE_2': 'DISTANCE'}, axis=1)\n",
        "df6.head()"
      ],
      "execution_count": 0,
      "outputs": []
    },
    {
      "cell_type": "code",
      "metadata": {
        "id": "jaKP87NP9NBs",
        "colab_type": "code",
        "colab": {}
      },
      "source": [
        "# How many cases where DISTANCE = 0?\n",
        "df6[['DISTANCE']][df6['DISTANCE']==0].count()"
      ],
      "execution_count": 0,
      "outputs": []
    },
    {
      "cell_type": "markdown",
      "metadata": {
        "id": "mq8626SFDzW1",
        "colab_type": "text"
      },
      "source": [
        "There are 288 records where DISTANCE = 0. I consider these records to be Missing Values."
      ]
    },
    {
      "cell_type": "code",
      "metadata": {
        "id": "1adzZo47EwjN",
        "colab_type": "code",
        "colab": {}
      },
      "source": [
        "# Identifying Missing Values in DISTANCE. In this case, zeros.\n",
        "df6.loc[df6['DISTANCE'] == 0, 'DISTANCE']= np.nan\n",
        "\n",
        "# Checking Missing Values\n",
        "df6.isna().sum()"
      ],
      "execution_count": 0,
      "outputs": []
    },
    {
      "cell_type": "markdown",
      "metadata": {
        "id": "RaAjeTcnH24a",
        "colab_type": "text"
      },
      "source": [
        "Let's treat Missing Values in DISTANCE and DEVICE below:"
      ]
    },
    {
      "cell_type": "code",
      "metadata": {
        "id": "NFerujs2OUYt",
        "colab_type": "code",
        "colab": {}
      },
      "source": [
        "df6['DISTANCE'] = np.where((df6['DISTANCE'].isnull()), df6['DISTANCE'].median(), df6['DISTANCE'])\n",
        "df6['DISTANCE_2']= df6['DISTANCE']"
      ],
      "execution_count": 0,
      "outputs": []
    },
    {
      "cell_type": "code",
      "metadata": {
        "id": "5_H6goQqPOwX",
        "colab_type": "code",
        "colab": {}
      },
      "source": [
        "# Checking Missing Values\n",
        "df6.isna().sum()"
      ],
      "execution_count": 0,
      "outputs": []
    },
    {
      "cell_type": "code",
      "metadata": {
        "id": "3hnjGvFkPhQF",
        "colab_type": "code",
        "colab": {}
      },
      "source": [
        "# Treating Missing Values of DEVICE\n",
        "df6['DEVICE'].value_counts() "
      ],
      "execution_count": 0,
      "outputs": []
    },
    {
      "cell_type": "code",
      "metadata": {
        "id": "dT7DglEqD14R",
        "colab_type": "code",
        "colab": {}
      },
      "source": [
        "# Replacing NaN's of DEVICE with 'NO_DEVICE'\n",
        "df6[\"DEVICE\"].fillna(\"NO_DEVICE\", inplace= True)\n",
        "\n",
        "# Checking Missing Values\n",
        "df6.isna().sum()"
      ],
      "execution_count": 0,
      "outputs": []
    },
    {
      "cell_type": "markdown",
      "metadata": {
        "id": "No6lri5nwJhu",
        "colab_type": "text"
      },
      "source": [
        "As we can see above, missing values have been addressed."
      ]
    },
    {
      "cell_type": "markdown",
      "metadata": {
        "id": "-G_pCw2FUDhy",
        "colab_type": "text"
      },
      "source": [
        "# Handling Outliers in DISTANCE using IQR-Score\n",
        "> Consider the following output:"
      ]
    },
    {
      "cell_type": "code",
      "metadata": {
        "id": "neux3RWbEzQf",
        "colab_type": "code",
        "colab": {}
      },
      "source": [
        "df7= df6.copy()\n",
        "df7.head()"
      ],
      "execution_count": 0,
      "outputs": []
    },
    {
      "cell_type": "code",
      "metadata": {
        "colab_type": "code",
        "id": "vfhAydVcFlfj",
        "colab": {}
      },
      "source": [
        "df7['DISTANCE_S']= df7['DISTANCE_2']\n",
        "df7['DISTANCE_S']= scaler_MinMaxScaler.fit_transform(df7[['DISTANCE_S']])\n",
        "\n",
        "IQR_Score_Outlier_Detect(df7, 'DISTANCE_2')\n",
        "df7.head()"
      ],
      "execution_count": 0,
      "outputs": []
    },
    {
      "cell_type": "markdown",
      "metadata": {
        "id": "n5nGTv5SF-JA",
        "colab_type": "text"
      },
      "source": [
        "# Binning numeric features"
      ]
    },
    {
      "cell_type": "code",
      "metadata": {
        "id": "pIf8bQdKGFbs",
        "colab_type": "code",
        "colab": {}
      },
      "source": [
        "df9= df7.copy()\n",
        "df9['EXTRA_BAGGAGE'].value_counts() "
      ],
      "execution_count": 0,
      "outputs": []
    },
    {
      "cell_type": "code",
      "metadata": {
        "id": "0iVPwA1-RnbC",
        "colab_type": "code",
        "colab": {}
      },
      "source": [
        "d_Var_Target= {True: 1, False: 0}\n",
        "df9['EXTRA_BAGGAGE']= df9['EXTRA_BAGGAGE'].map(d_Var_Target)\n",
        "df9.head()"
      ],
      "execution_count": 0,
      "outputs": []
    },
    {
      "cell_type": "code",
      "metadata": {
        "id": "TLb0378PNyGZ",
        "colab_type": "code",
        "colab": {}
      },
      "source": [
        "df9.info()"
      ],
      "execution_count": 0,
      "outputs": []
    },
    {
      "cell_type": "code",
      "metadata": {
        "id": "m_NPR5e6thNK",
        "colab_type": "code",
        "colab": {}
      },
      "source": [
        "df9.head()"
      ],
      "execution_count": 0,
      "outputs": []
    },
    {
      "cell_type": "markdown",
      "metadata": {
        "id": "ONbFDWd_JEZw",
        "colab_type": "text"
      },
      "source": [
        "## Treating categorical variables"
      ]
    },
    {
      "cell_type": "code",
      "metadata": {
        "id": "hZ5wWSFNIZGd",
        "colab_type": "code",
        "colab": {}
      },
      "source": [
        "df10= df9.copy()\n",
        "df10.info()"
      ],
      "execution_count": 0,
      "outputs": []
    },
    {
      "cell_type": "code",
      "metadata": {
        "id": "xph3AArLwjcT",
        "colab_type": "code",
        "colab": {}
      },
      "source": [
        "l_Vars_Obj= list(df10.select_dtypes(include=['category', 'object']).columns)\n",
        "l_Vars_Obj"
      ],
      "execution_count": 0,
      "outputs": []
    },
    {
      "cell_type": "code",
      "metadata": {
        "id": "UUdzUha1uVJn",
        "colab_type": "code",
        "colab": {}
      },
      "source": [
        "df10.head()"
      ],
      "execution_count": 0,
      "outputs": []
    },
    {
      "cell_type": "code",
      "metadata": {
        "id": "aGzOYgPYMv6L",
        "colab_type": "code",
        "colab": {}
      },
      "source": [
        "df10 = pd.get_dummies(df10, columns= l_Vars_Obj, drop_first=True)\n",
        "df10.head()"
      ],
      "execution_count": 0,
      "outputs": []
    },
    {
      "cell_type": "markdown",
      "metadata": {
        "id": "2IoUBan0QJWW",
        "colab_type": "text"
      },
      "source": [
        "# Modeling"
      ]
    },
    {
      "cell_type": "markdown",
      "metadata": {
        "id": "kwJtOjFmQOUy",
        "colab_type": "text"
      },
      "source": [
        "## Train/Test Split"
      ]
    },
    {
      "cell_type": "markdown",
      "metadata": {
        "id": "Kk_vdqSq6qD-",
        "colab_type": "text"
      },
      "source": [
        "### Balancing the training sample"
      ]
    },
    {
      "cell_type": "code",
      "metadata": {
        "id": "QBahHsJwvKc1",
        "colab_type": "code",
        "colab": {}
      },
      "source": [
        "df11= df10.copy()\n",
        "X= df11[df11['EXTRA_BAGGAGE'].notna()]\n",
        "X= X.drop(columns= ['EXTRA_BAGGAGE'], axis= 1)\n",
        "y= df11[['EXTRA_BAGGAGE']][df11['EXTRA_BAGGAGE'].notna()]"
      ],
      "execution_count": 0,
      "outputs": []
    },
    {
      "cell_type": "code",
      "metadata": {
        "id": "uLYbP16k9FBq",
        "colab_type": "code",
        "colab": {}
      },
      "source": [
        "sns.countplot(x= 'EXTRA_BAGGAGE', data= df11, palette= 'hls')"
      ],
      "execution_count": 0,
      "outputs": []
    },
    {
      "cell_type": "markdown",
      "metadata": {
        "id": "R6wJwuU_7N5K",
        "colab_type": "text"
      },
      "source": [
        "So, I'll select 10,000 EXTRA_BAGGAGE= 0 and all EXTRA_BAGGAGE= 1."
      ]
    },
    {
      "cell_type": "code",
      "metadata": {
        "id": "OgSKjsx87XTS",
        "colab_type": "code",
        "colab": {}
      },
      "source": [
        "# Selecting all EXTRA_BAGGAGE= 1...\n",
        "df11_1= df11[df11['EXTRA_BAGGAGE']== 1]\n",
        "df11_1.shape"
      ],
      "execution_count": 0,
      "outputs": []
    },
    {
      "cell_type": "code",
      "metadata": {
        "id": "Y2l6OrDl9xWf",
        "colab_type": "code",
        "colab": {}
      },
      "source": [
        "# Selecting all EXTRA_BAGGAGE= 1...\n",
        "df11_temp= df11[df11['EXTRA_BAGGAGE']== 0]\n",
        "df11_0= df11_temp.sample(n= 15000)\n",
        "df11_0.shape"
      ],
      "execution_count": 0,
      "outputs": []
    },
    {
      "cell_type": "code",
      "metadata": {
        "id": "BDQz1-6B-91o",
        "colab_type": "code",
        "colab": {}
      },
      "source": [
        "df11_2= df11_1.append(df11_0)\n",
        "df11_2.shape"
      ],
      "execution_count": 0,
      "outputs": []
    },
    {
      "cell_type": "markdown",
      "metadata": {
        "id": "T4vW5cd940j7",
        "colab_type": "text"
      },
      "source": [
        "The following is the training sample, which we will balance."
      ]
    },
    {
      "cell_type": "code",
      "metadata": {
        "id": "wbryDVvsPJOU",
        "colab_type": "code",
        "colab": {}
      },
      "source": [
        "df12= df11_2.copy()\n",
        "X= df12[df12['EXTRA_BAGGAGE'].notna()]\n",
        "X= X.drop(columns= ['EXTRA_BAGGAGE'], axis= 1)\n",
        "y= df12[['EXTRA_BAGGAGE']][df12['EXTRA_BAGGAGE'].notna()]\n",
        "\n",
        "print(X.shape, y.shape)"
      ],
      "execution_count": 0,
      "outputs": []
    },
    {
      "cell_type": "markdown",
      "metadata": {
        "id": "kmWU_GNjQYtM",
        "colab_type": "text"
      },
      "source": [
        "Importance Sampling through 'Random Forest':"
      ]
    },
    {
      "cell_type": "code",
      "metadata": {
        "id": "nYcSENtTQbey",
        "colab_type": "code",
        "colab": {}
      },
      "source": [
        "from sklearn.ensemble import RandomForestClassifier\n",
        "rf_clf = RandomForestClassifier(n_estimators = 500, max_depth=15)\n",
        "rf_clf.fit(X, y)\n",
        "rf_y_pred = rf_clf.predict(X)\n",
        "\n",
        "pd.Series(rf_clf.feature_importances_, index = X.columns).nlargest(30).plot(kind = 'barh',\n",
        "                                                                               figsize = (9, 9),\n",
        "                                                                              title = 'Feature importance from RandomForest').invert_yaxis();"
      ],
      "execution_count": 0,
      "outputs": []
    },
    {
      "cell_type": "markdown",
      "metadata": {
        "id": "hdOjU63dHH0M",
        "colab_type": "text"
      },
      "source": [
        "# Dropping variables"
      ]
    },
    {
      "cell_type": "code",
      "metadata": {
        "id": "wmF1OA1mHjj-",
        "colab_type": "code",
        "colab": {}
      },
      "source": [
        "df13= df12.copy()\n",
        "df13.head()"
      ],
      "execution_count": 0,
      "outputs": []
    },
    {
      "cell_type": "code",
      "metadata": {
        "id": "eNeSOFghHmHI",
        "colab_type": "code",
        "colab": {}
      },
      "source": [
        "df13= df13.drop(columns= ['DISTANCE','DISTANCE_S','DISTANCE_2_IQR','DIF_ARRIVAL_DEPARTURE_2','DIF_ARRIVAL_DEPARTURE','DIF_ARRIVAL_DEPARTURE_2_IQR'])"
      ],
      "execution_count": 0,
      "outputs": []
    },
    {
      "cell_type": "code",
      "metadata": {
        "id": "LwtGbrhOJXFf",
        "colab_type": "code",
        "colab": {}
      },
      "source": [
        "X= df13[df13['EXTRA_BAGGAGE'].notna()]\n",
        "X= X.drop(columns= ['EXTRA_BAGGAGE'], axis= 1)\n",
        "y= df13[['EXTRA_BAGGAGE']][df13['EXTRA_BAGGAGE'].notna()]"
      ],
      "execution_count": 0,
      "outputs": []
    },
    {
      "cell_type": "code",
      "metadata": {
        "id": "C7XJIUrbJjCQ",
        "colab_type": "code",
        "colab": {}
      },
      "source": [
        "from sklearn.ensemble import RandomForestClassifier\n",
        "rf_clf = RandomForestClassifier(n_estimators = 500, max_depth=15)\n",
        "rf_clf.fit(X, y)\n",
        "rf_y_pred = rf_clf.predict(X)\n",
        "\n",
        "pd.Series(rf_clf.feature_importances_, index = X.columns).nlargest(30).plot(kind = 'barh',\n",
        "                                                                               figsize = (9, 9),\n",
        "                                                                              title = 'Feature importance from RandomForest').invert_yaxis();"
      ],
      "execution_count": 0,
      "outputs": []
    },
    {
      "cell_type": "code",
      "metadata": {
        "id": "4Cm1bE0oaTTN",
        "colab_type": "code",
        "colab": {}
      },
      "source": [
        "from sklearn.feature_selection import SelectFromModel\n",
        "\n",
        "# Create a list of feature names\n",
        "feat_labels = X.columns\n",
        "\n",
        "# Create a selector object that will use the random forest classifier to identify\n",
        "# features that have an importance of more than 0.005\n",
        "sfm = SelectFromModel(rf_clf, threshold=0.005)\n",
        "\n",
        "# Train the selector\n",
        "sfm.fit(X, y)"
      ],
      "execution_count": 0,
      "outputs": []
    },
    {
      "cell_type": "code",
      "metadata": {
        "id": "CIkDv4-8LySb",
        "colab_type": "code",
        "colab": {}
      },
      "source": [
        "# Print the names of the most important features\n",
        "l_Vars= []\n",
        "for feature_list_index in sfm.get_support(indices=True):\n",
        "    print(feat_labels[feature_list_index])\n",
        "    l_Vars.append(feat_labels[feature_list_index])"
      ],
      "execution_count": 0,
      "outputs": []
    },
    {
      "cell_type": "markdown",
      "metadata": {
        "id": "gJSzhiDMd0oB",
        "colab_type": "text"
      },
      "source": [
        "Note below that we have reduced the number of columns/variables. Instead of 112, now we are working only with 28."
      ]
    },
    {
      "cell_type": "code",
      "metadata": {
        "id": "Um6eDoo5cfGx",
        "colab_type": "code",
        "colab": {}
      },
      "source": [
        "X2= df13[l_Vars][df13['EXTRA_BAGGAGE'].notna()]\n",
        "\n",
        "from sklearn.model_selection import train_test_split\n",
        "X_train, X_test, y_train, y_test = train_test_split(X2 y, test_size= 0.2)\n",
        "print(X_train.shape, y_train.shape)\n",
        "print(X_test.shape, y_test.shape)"
      ],
      "execution_count": 0,
      "outputs": []
    },
    {
      "cell_type": "markdown",
      "metadata": {
        "id": "zGvmZ07J6j_H",
        "colab_type": "text"
      },
      "source": [
        "Next, we will apply the following estimators / classifiers to the training sample:"
      ]
    },
    {
      "cell_type": "markdown",
      "metadata": {
        "id": "F6alHA0z9cHe",
        "colab_type": "text"
      },
      "source": [
        "# Evaluation\n",
        "> As I'll submit a binary output, I need to use a F1-Score, as suggested in the challenge. Firstly, let's understand what's F1-Score metric:\n",
        "\n",
        "* **Precision**: When the model predicts positive, how often is it correct? A low precision can also indicate a large number of False Positives.\n",
        "\n",
        "    $Precision= \\frac{TruePositives}{TruePositive + FalsePositives}$\n",
        "\n",
        "* **Recall**: Recall is the number of True Positives divided by the number of True Positives and the number of False Negatives. Put another way it is the number of positive predictions divided by the number of positive class values in the test data. It is also called Sensitivity or the True Positive Rate. A low recall indicates many False Negatives.\n",
        "\n",
        "    $Recall= \\frac{TruePositives}{TruePositives + FalseNegatives}$\n",
        "\n",
        "* **F1 Score**: F1 score conveys the balance between the precision and the recall.\n",
        "\n",
        "    $F1= 2*\\frac{Precision*Recall}{Precision+Recall}$\n",
        "\n",
        "Source: [Classification Accuracy is Not Enough: More Performance Measures You Can Use](https://machinelearningmastery.com/classification-accuracy-is-not-enough-more-performance-measures-you-can-use/)"
      ]
    },
    {
      "cell_type": "markdown",
      "metadata": {
        "id": "VNO3IhZO905D",
        "colab_type": "text"
      },
      "source": [
        "## Interpretation\n",
        "> A good F1 score means that you have low false positives and low false negatives, so you’re correctly identifying real threats and you are not disturbed by false alarms. \n",
        ">> An F1 score is considered perfect when it’s 1, while the model is a total failure when it’s 0."
      ]
    },
    {
      "cell_type": "code",
      "metadata": {
        "id": "2kYW_yzqvNdP",
        "colab_type": "code",
        "colab": {}
      },
      "source": [
        "from sklearn.model_selection import cross_val_score, StratifiedKFold, GridSearchCV\n",
        "from sklearn.metrics import f1_score, accuracy_score\n",
        "from sklearn.metrics import confusion_matrix"
      ],
      "execution_count": 0,
      "outputs": []
    },
    {
      "cell_type": "code",
      "metadata": {
        "id": "DAGezEXE-ljX",
        "colab_type": "code",
        "colab": {}
      },
      "source": [
        "def make_confusion_matrix(cf,\n",
        "                          group_names=None,\n",
        "                          categories='auto',\n",
        "                          count=True,\n",
        "                          percent=True,\n",
        "                          cbar=True,\n",
        "                          xyticks=False,\n",
        "                          xyplotlabels=True,\n",
        "                          sum_stats=True,\n",
        "                          figsize= (8,8),\n",
        "                          cmap='Blues'):\n",
        "    '''\n",
        "    This function will make a pretty plot of an sklearn Confusion Matrix cm using a Seaborn heatmap visualization.\n",
        "    Arguments\n",
        "    ---------\n",
        "    cf:            confusion matrix to be passed in\n",
        "    group_names:   List of strings that represent the labels row by row to be shown in each square.\n",
        "    categories:    List of strings containing the categories to be displayed on the x,y axis. Default is 'auto'\n",
        "    count:         If True, show the raw number in the confusion matrix. Default is True.\n",
        "    normalize:     If True, show the proportions for each category. Default is True.\n",
        "    cbar:          If True, show the color bar. The cbar values are based off the values in the confusion matrix.\n",
        "                   Default is True.\n",
        "    xyticks:       If True, show x and y ticks. Default is True.\n",
        "    xyplotlabels:  If True, show 'True Label' and 'Predicted Label' on the figure. Default is True.\n",
        "    sum_stats:     If True, display summary statistics below the figure. Default is True.\n",
        "    figsize:       Tuple representing the figure size. Default will be the matplotlib rcParams value.\n",
        "    cmap:          Colormap of the values displayed from matplotlib.pyplot.cm. Default is 'Blues'\n",
        "                   See http://matplotlib.org/examples/color/colormaps_reference.html\n",
        "    '''\n",
        "\n",
        "\n",
        "    # CODE TO GENERATE TEXT INSIDE EACH SQUARE\n",
        "    blanks = ['' for i in range(cf.size)]\n",
        "\n",
        "    if group_names and len(group_names)==cf.size:\n",
        "        group_labels = [\"{}\\n\".format(value) for value in group_names]\n",
        "    else:\n",
        "        group_labels = blanks\n",
        "\n",
        "    if count:\n",
        "        group_counts = [\"{0:0.0f}\\n\".format(value) for value in cf.flatten()]\n",
        "    else:\n",
        "        group_counts = blanks\n",
        "\n",
        "    if percent:\n",
        "        group_percentages = [\"{0:.2%}\".format(value) for value in cf.flatten()/np.sum(cf)]\n",
        "    else:\n",
        "        group_percentages = blanks\n",
        "\n",
        "    box_labels = [f\"{v1}{v2}{v3}\".strip() for v1, v2, v3 in zip(group_labels,group_counts,group_percentages)]\n",
        "    box_labels = np.asarray(box_labels).reshape(cf.shape[0],cf.shape[1])\n",
        "\n",
        "\n",
        "    # CODE TO GENERATE SUMMARY STATISTICS & TEXT FOR SUMMARY STATS\n",
        "    if sum_stats:\n",
        "        #Accuracy is sum of diagonal divided by total observations\n",
        "        accuracy  = np.trace(cf) / float(np.sum(cf))\n",
        "\n",
        "        #if it is a binary confusion matrix, show some more stats\n",
        "        if len(cf)==2:\n",
        "            #Metrics for Binary Confusion Matrices\n",
        "            precision = cf[1,1] / sum(cf[:,1])\n",
        "            recall    = cf[1,1] / sum(cf[1,:])\n",
        "            f1_score  = 2*precision*recall / (precision + recall)\n",
        "            stats_text = \"\\n\\nAccuracy={:0.3f}\\nPrecision={:0.3f}\\nRecall={:0.3f}\\nF1 Score={:0.3f}\".format(accuracy,precision,recall,f1_score)\n",
        "        else:\n",
        "            stats_text = \"\\n\\nAccuracy={:0.3f}\".format(accuracy)\n",
        "    else:\n",
        "        stats_text = \"\"\n",
        "\n",
        "\n",
        "    # SET FIGURE PARAMETERS ACCORDING TO OTHER ARGUMENTS\n",
        "    if figsize==None:\n",
        "        #Get default figure size if not set\n",
        "        figsize = plt.rcParams.get('figure.figsize')\n",
        "\n",
        "    if xyticks==False:\n",
        "        #Do not show categories if xyticks is False\n",
        "        categories=False\n",
        "\n",
        "\n",
        "    # MAKE THE HEATMAP VISUALIZATION\n",
        "    plt.figure(figsize=figsize)\n",
        "    sns.heatmap(cf,annot=box_labels,fmt=\"\",cmap=cmap,cbar=cbar,xticklabels=categories,yticklabels=categories)\n",
        "\n",
        "    if xyplotlabels:\n",
        "        plt.ylabel('True label')\n",
        "        plt.xlabel('Predicted label' + stats_text)\n",
        "    else:\n",
        "        plt.xlabel(stats_text)"
      ],
      "execution_count": 0,
      "outputs": []
    },
    {
      "cell_type": "markdown",
      "metadata": {
        "id": "2A0y3ZEri2dY",
        "colab_type": "text"
      },
      "source": [
        "### Random Forest Classifier"
      ]
    },
    {
      "cell_type": "code",
      "metadata": {
        "id": "sTpgOTh0tUQ3",
        "colab_type": "code",
        "colab": {}
      },
      "source": [
        "from sklearn.ensemble import RandomForestClassifier\n",
        "\n",
        "Model_RF= RandomForestClassifier(n_estimators= 100, n_jobs= -1, min_samples_split= 2)\n",
        "Model_RF.fit(X_train,y_train)\n",
        "y_pred = Model_RF.predict(X_test)\n",
        "accuracy_score(y_test, y_pred)"
      ],
      "execution_count": 0,
      "outputs": []
    },
    {
      "cell_type": "code",
      "metadata": {
        "id": "h5k__EnD7tGS",
        "colab_type": "code",
        "colab": {}
      },
      "source": [
        "# Definindo a função para o GridSearchCV\n",
        "def GridSearchOptimizer(modelo, Model_Opt, d_Parametros, X_train, y_train, X_test, y_test, cv= i_CV):\n",
        "    Model_GridSearchCV = GridSearchCV(modelo, d_Parametros, cv= i_CV, n_jobs= -1, verbose= 10, scoring= 'accuracy')\n",
        "    Model_GridSearchCV.fit(X_train, y_train)\n",
        "    #print(f\"\\nGridSearchCV levou {tempo_elapsed:.2f} segundos.\")\n",
        "\n",
        "    # Parâmetros que otimizam a classificação:\n",
        "    print(f'\\nParametros otimizados: {Model_GridSearchCV.best_params_}')\n",
        "    \n",
        "    if Model_Opt== 'Model_DT2':\n",
        "        print(f'\\nDecisionTreeClassifier *********************************************************************************************************')\n",
        "        Model_Opt= DecisionTreeClassifier(criterion= Model_GridSearchCV.best_params_['criterion'], \n",
        "                                          max_depth= Model_GridSearchCV.best_params_['max_depth'],\n",
        "                                          max_leaf_nodes= Model_GridSearchCV.best_params_['max_leaf_nodes'],\n",
        "                                          min_samples_split= Model_GridSearchCV.best_params_['min_samples_leaf'],\n",
        "                                          min_samples_leaf= Model_GridSearchCV.best_params_['min_samples_split'], \n",
        "                                          random_state= i_Seed)\n",
        "    elif Model_Opt== 'Model_RF2':\n",
        "        print(f'\\nRandomForestClassifier *********************************************************************************************************')\n",
        "        Model_Opt= RandomForestClassifier(bootstrap= Model_GridSearchCV.best_params_['bootstrap'],\n",
        "                                          max_depth= Model_GridSearchCV.best_params_['max_depth'],\n",
        "                                          max_features= Model_GridSearchCV.best_params_['max_features'],\n",
        "                                          min_samples_leaf= Model_GridSearchCV.best_params_['min_samples_leaf'],\n",
        "                                          min_samples_split= Model_GridSearchCV.best_params_['min_samples_split'],\n",
        "                                          n_estimators= Model_GridSearchCV.best_params_['n_estimators'],\n",
        "                                          random_state= i_Seed)\n",
        "        \n",
        "    elif Model_Opt== 'Model_AB2':\n",
        "        print(f'\\nAdaBoostClassifier *********************************************************************************************************')\n",
        "        Model_Opt= AdaBoostClassifier(algorithm='SAMME.R',\n",
        "                                      base_estimator=RandomForestClassifier(bootstrap= False, \n",
        "                                                                            max_depth= 10,\n",
        "                                                                            max_features= 'auto',\n",
        "                                                                            min_samples_leaf= 1, \n",
        "                                                                            min_samples_split= 2,\n",
        "                                                                            n_estimators= 400),\n",
        "                                      learning_rate= Model_GridSearchCV.best_params_['learning_rate'], \n",
        "                                      n_estimators= Model_GridSearchCV.best_params_['n_estimators'], \n",
        "                                      random_state=i_Seed)\n",
        "        \n",
        "    elif Model_Opt== 'Model_GB2':\n",
        "        print(f'\\nGradientBoostingClassifier *********************************************************************************************************')\n",
        "        Model_Opt= GradientBoostingClassifier(learning_rate= Model_GridSearchCV.best_params_['learning_rate'],\n",
        "                                              n_estimators= Model_GridSearchCV.best_params_['n_estimators'],\n",
        "                                              max_depth= Model_GridSearchCV.best_params_['max_depth'],\n",
        "                                              min_samples_split= Model_GridSearchCV.best_params_['min_samples_split'],\n",
        "                                              min_samples_leaf= Model_GridSearchCV.best_params_['min_samples_leaf'],\n",
        "                                              max_features= Model_GridSearchCV.best_params_['max_features'])\n",
        "        \n",
        "    elif Model_Opt== 'Model_XGB2':\n",
        "        print(f'\\nXGBoostingClassifier *********************************************************************************************************')\n",
        "        Model_Opt= XGBoostingClassifier(learning_rate= Model_GridSearchCV.best_params_['learning_rate'],\n",
        "                                        max_depth= Model_GridSearchCV.best_params_['max_depth'],\n",
        "                                        colsample_bytree= Model_GridSearchCV.best_params_['colsample_bytree'],\n",
        "                                        subsample= Model_GridSearchCV.best_params_['subsample'],\n",
        "                                        gamma= Model_GridSearchCV.best_params_['gamma'],\n",
        "                                        min_child_weight= Model_GridSearchCV.best_params_['min_child_weight'])\n",
        "        \n",
        "    # Treina novamente usando os parametros otimizados...\n",
        "    Model_Opt.fit(X_train, y_train)\n",
        "\n",
        "    # Cross-Validation com 10 folds\n",
        "    print(f'\\n********* CROSS-VALIDATION ***********')\n",
        "    a_Scores_CV = cross_val_score(Model_Opt, X_train, y_train, cv= i_CV)\n",
        "    print(f'Média das Acurácias calculadas pelo CV....: {100*round(a_Scores_CV.mean(),4)}')\n",
        "    print(f'std médio das Acurácias calculadas pelo CV: {100*round(a_Scores_CV.std(),4)}')\n",
        "\n",
        "    # Faz predições com os parametros otimizados...\n",
        "    y_pred = Model_Opt.predict(X_test)\n",
        "  \n",
        "    # Importância das COLUNAS\n",
        "    print(f'\\n********* IMPORTÂNCIA DAS COLUNAS ***********')\n",
        "    df_Importance= pd.DataFrame(zip(l_Col_Names, Model_Opt.feature_importances_), columns= ['coluna', 'importancia'])\n",
        "    df_Importance= df_Importance.sort_values(by= ['importancia'], ascending=False)\n",
        "    print(df_Importance)\n",
        "\n",
        "    # Matriz de Confusão\n",
        "    print(f'\\n********* CONFUSION MATRIX - PARAMETER TUNNING ***********')\n",
        "    cf_matrix = confusion_matrix(y_test, y_pred)\n",
        "    cf_labels = ['True Neg','False Pos','False Neg','True Pos']\n",
        "    cf_categories = ['Zero', 'One']\n",
        "    make_confusion_matrix(cf_matrix, group_names= cf_labels, categories= cf_categories)\n",
        "\n",
        "    return Model_Opt, Model_GridSearchCV.best_params_"
      ],
      "execution_count": 0,
      "outputs": []
    },
    {
      "cell_type": "code",
      "metadata": {
        "id": "BHNJQP8N6Rwt",
        "colab_type": "code",
        "colab": {}
      },
      "source": [
        "# Dicionário de parâmetros para o parameter tunning.\n",
        "i_CV= 3\n",
        "i_Seed= 20111974\n",
        "\n",
        "d_Parametros_RF= {'criterion': ['gini', 'entropy'],\n",
        "                  'max_depth': [5, 10, 15, 20, 40, 50, 100, None],\n",
        "                  'min_samples_leaf': [1, 2, 4],\n",
        "                  'min_samples_split': [2, 5, 10]}"
      ],
      "execution_count": 0,
      "outputs": []
    },
    {
      "cell_type": "code",
      "metadata": {
        "id": "CuH3gNQT6V6K",
        "colab_type": "code",
        "colab": {}
      },
      "source": [
        "# Invoca a função\n",
        "Model_RF2, best_params= GridSearchOptimizer(Model_RF, 'Model_RF2', d_Parametros_RF, X_train, y_train, X_test, y_test, cv= i_CV)"
      ],
      "execution_count": 0,
      "outputs": []
    },
    {
      "cell_type": "code",
      "metadata": {
        "id": "xDXlNUBEEGDi",
        "colab_type": "code",
        "colab": {}
      },
      "source": [
        "# Como o procedimento acima levou 194 minutos para executar, então vou estimar Model_RF2 abaixo usando os parâmetros acima estimados\n",
        "best_params= {'criterion': 'gini', 'max_depth': 15, 'min_samples_leaf': 1, 'min_samples_split': 10}\n",
        "\n",
        "Model_RF2= RandomForestClassifier(criterion= 'gini', \n",
        "                                  max_depth= 15, \n",
        "                                  min_samples_leaf= 1, \n",
        "                                  min_samples_split= 10, \n",
        "                                  random_state= i_Seed)"
      ],
      "execution_count": 0,
      "outputs": []
    },
    {
      "cell_type": "code",
      "metadata": {
        "id": "BfoTMkmpEsPv",
        "colab_type": "code",
        "colab": {}
      },
      "source": [
        "Model_RF2.fit(X_train,y_train)\n",
        "y_pred = Model_RF2.predict(X_test)\n",
        "accuracy_score(y_test, y_pred)"
      ],
      "execution_count": 0,
      "outputs": []
    },
    {
      "cell_type": "markdown",
      "metadata": {
        "id": "-zEf-2Voi6DY",
        "colab_type": "text"
      },
      "source": [
        "### Bagging Classifier"
      ]
    },
    {
      "cell_type": "code",
      "metadata": {
        "id": "B3KXiSpwxpdT",
        "colab_type": "code",
        "colab": {}
      },
      "source": [
        "from sklearn.ensemble import GradientBoostingClassifier\n",
        "\n",
        "# Instancia...\n",
        "Model_GB=GradientBoostingClassifier(n_estimators=100, min_samples_split= 2)\n",
        "\n",
        "# Treina...\n",
        "Model_GB.fit(X_train, y_train)"
      ],
      "execution_count": 0,
      "outputs": []
    },
    {
      "cell_type": "code",
      "metadata": {
        "id": "st3XoaQEeDrD",
        "colab_type": "code",
        "colab": {}
      },
      "source": [
        "# Cross-Validation com 10 folds\n",
        "a_Scores_CV = cross_val_score(Model_GB, X_train, y_train, cv= i_CV)\n",
        "print(f'Média das Acurácias calculadas pelo CV....: {100*round(a_Scores_CV.mean(),4)}')\n",
        "print(f'std médio das Acurácias calculadas pelo CV: {100*round(a_Scores_CV.std(),4)}')"
      ],
      "execution_count": 0,
      "outputs": []
    },
    {
      "cell_type": "code",
      "metadata": {
        "id": "-qHtm6vC9a2b",
        "colab_type": "code",
        "colab": {}
      },
      "source": [
        "# Faz precições...\n",
        "y_pred = Model_GB.predict(X_test)\n",
        "\n",
        "# Confusion Matrix\n",
        "cf_matrix = confusion_matrix(y_test, y_pred)\n",
        "cf_labels = ['True Neg','False Pos','False Neg','True Pos']\n",
        "cf_categories = ['Zero', 'One']\n",
        "make_confusion_matrix(cf_matrix, group_names= cf_labels, categories= cf_categories)"
      ],
      "execution_count": 0,
      "outputs": []
    },
    {
      "cell_type": "code",
      "metadata": {
        "id": "eMoDWEm79eGX",
        "colab_type": "code",
        "colab": {}
      },
      "source": [
        "# Dicionário de parâmetros para o parameter tunning.\n",
        "d_Parametros_GB= {'learning_rate': [1, 0.5, 0.25, 0.1, 0.05, 0.01],\n",
        "                  'n_estimators': [1, 2, 4, 8, 16, 32, 64, 100, 200],\n",
        "                  'max_depth': [5, 10, 15, 20, 25, 30],\n",
        "                  'min_samples_split': [0.1, 0.3, 0.5, 0.7, 0.9],\n",
        "                  'min_samples_leaf': [0.1, 0.2, 0.3, 0.4, 0.5],\n",
        "                  'max_features': list(range(1, X_train.shape[1]))}"
      ],
      "execution_count": 0,
      "outputs": []
    },
    {
      "cell_type": "code",
      "metadata": {
        "id": "dEW5AB3F9gmd",
        "colab_type": "code",
        "colab": {}
      },
      "source": [
        "# Invoca a função\n",
        "Model_GB2, best_params= GridSearchOptimizer(Model_GB, 'Model_GB2', d_Parametros_GB, X_train, y_train, X_test, y_test, cv= i_CV)"
      ],
      "execution_count": 0,
      "outputs": []
    },
    {
      "cell_type": "code",
      "metadata": {
        "id": "sqUMN6w99miW",
        "colab_type": "code",
        "colab": {}
      },
      "source": [
        "# Como o procedimento acima levou 93 minutos para executar, então vou estimar Model_GB2 abaixo usando os parâmetros acima estimados\n",
        "best_params= {'learning_rate': 1, 'max_depth': 30, 'max_features': 11, 'min_samples_leaf': 0.1, 'min_samples_split': 0.1, 'n_estimators': 100}"
      ],
      "execution_count": 0,
      "outputs": []
    },
    {
      "cell_type": "code",
      "metadata": {
        "id": "3HZWWK5V9pM-",
        "colab_type": "code",
        "colab": {}
      },
      "source": [
        "Model_GB2= GradientBoostingClassifier(learning_rate= best_params['learning_rate'], \n",
        "                                      max_depth= best_params['max_depth'],\n",
        "                                      min_samples_leaf= best_params['min_samples_leaf'],\n",
        "                                      min_samples_split= best_params['min_samples_split'],\n",
        "                                      n_estimators= best_params['n_estimators'],\n",
        "                                      random_state= i_Seed)"
      ],
      "execution_count": 0,
      "outputs": []
    },
    {
      "cell_type": "markdown",
      "metadata": {
        "id": "sQekDqR7ncE2",
        "colab_type": "text"
      },
      "source": [
        "# Submitting my model"
      ]
    },
    {
      "cell_type": "code",
      "metadata": {
        "id": "hrL_MLi7n_EP",
        "colab_type": "code",
        "colab": {}
      },
      "source": [
        "X_Val= df10[l_Vars][df10['EXTRA_BAGGAGE'].isna()]\n",
        "y_Val= df10[['EXTRA_BAGGAGE']][df10['EXTRA_BAGGAGE'].isna()]\n",
        "\n",
        "print(X_Val.shape, y_Val.shape)"
      ],
      "execution_count": 0,
      "outputs": []
    },
    {
      "cell_type": "code",
      "metadata": {
        "id": "XHci3WoTlY5c",
        "colab_type": "code",
        "colab": {}
      },
      "source": [
        "X_Val['EXTRA_BAGGAGE'] = clf.predict(X_Val)\n",
        "y_pred_submission= X_Val[['EXTRA_BAGGAGE']]\n",
        "y_pred_submission.head()"
      ],
      "execution_count": 0,
      "outputs": []
    },
    {
      "cell_type": "code",
      "metadata": {
        "id": "tnjBBMglqfL6",
        "colab_type": "code",
        "colab": {}
      },
      "source": [
        "y_pred_submission['EXTRA_BAGGAGE']= y_pred_submission['EXTRA_BAGGAGE'].map({0.0: False, 1.0: True})\n",
        "y_pred_submission.head()"
      ],
      "execution_count": 0,
      "outputs": []
    },
    {
      "cell_type": "code",
      "metadata": {
        "id": "R1rxBI4toZ4Y",
        "colab_type": "code",
        "colab": {}
      },
      "source": [
        "y_pred_submission.to_csv(r'eDreams_Submission.csv')"
      ],
      "execution_count": 0,
      "outputs": []
    }
  ]
}