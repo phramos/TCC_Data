{
  "nbformat": 4,
  "nbformat_minor": 0,
  "metadata": {
    "colab": {
      "name": "Copy of Untitled23.ipynb",
      "provenance": [],
      "private_outputs": true,
      "machine_shape": "hm",
      "include_colab_link": true
    },
    "kernelspec": {
      "name": "python3",
      "display_name": "Python 3"
    },
    "accelerator": "GPU"
  },
  "cells": [
    {
      "cell_type": "markdown",
      "metadata": {
        "id": "view-in-github",
        "colab_type": "text"
      },
      "source": [
        "<a href=\"https://colab.research.google.com/github/MathMachado/eDreams/blob/master/eDreams_5.ipynb\" target=\"_parent\"><img src=\"https://colab.research.google.com/assets/colab-badge.svg\" alt=\"Open In Colab\"/></a>"
      ]
    },
    {
      "cell_type": "markdown",
      "metadata": {
        "id": "17LuXi1voKCf",
        "colab_type": "text"
      },
      "source": [
        "# Install & Load Main Python libraries\n",
        "\n"
      ]
    },
    {
      "cell_type": "markdown",
      "metadata": {
        "id": "sgBiQdX-a8wy",
        "colab_type": "text"
      },
      "source": [
        "https://towardsdatascience.com/a-deep-dive-into-imbalanced-data-over-sampling-f1167ed74b5\n",
        "\n",
        "https://towardsdatascience.com/from-zero-to-hero-in-xgboost-tuning-e48b59bfaf58\n",
        "\n",
        "https://www.datacamp.com/community/tutorials/xgboost-in-python"
      ]
    },
    {
      "cell_type": "code",
      "metadata": {
        "id": "aIMVpjquns-S",
        "colab_type": "code",
        "colab": {}
      },
      "source": [
        "import pandas as pd\n",
        "import numpy as np\n",
        "\n",
        "import matplotlib\n",
        "import matplotlib.pyplot as plt\n",
        "import seaborn as sns\n",
        "%matplotlib inline"
      ],
      "execution_count": 0,
      "outputs": []
    },
    {
      "cell_type": "markdown",
      "metadata": {
        "id": "nhymf5HmfuyW",
        "colab_type": "text"
      },
      "source": [
        "# Load dataframes: training & test sample"
      ]
    },
    {
      "cell_type": "code",
      "metadata": {
        "id": "tWfL-XJFnZIp",
        "colab_type": "code",
        "colab": {}
      },
      "source": [
        "url_train= \"https://raw.githubusercontent.com/MathMachado/eDreams/master/Dataframes/train.csv?token=AGDJQ6YO3T3X2CYDGGUPRO252KACE\"\n",
        "url_test= \"https://raw.githubusercontent.com/MathMachado/eDreams/master/Dataframes/test.csv?token=AGDJQ623H4TWE2QKQWENGA252KAD6\"\n",
        "\n",
        "# Stacking training and validation samples for a single treatment\n",
        "df_train= pd.read_csv(url_train, sep= \";\", index_col= 'ID', parse_dates = ['DEPARTURE', 'ARRIVAL'])\n",
        "df_test= pd.read_csv(url_test, sep= \";\", index_col= 'ID', parse_dates = ['DEPARTURE', 'ARRIVAL'])\n",
        "\n",
        "# Resetting the test sample indices\n",
        "df_test['ID']= range(50000, 80000)\n",
        "df_test.set_index('ID',inplace=True)\n",
        "\n",
        "# merge train and test\n",
        "df = df_train.append(df_test, sort= True)\n",
        "\n",
        "# Records training and test dataframe indexes to separate these dataframes later\n",
        "train_index = df_train.index\n",
        "test_index = df_test.index"
      ],
      "execution_count": 0,
      "outputs": []
    },
    {
      "cell_type": "code",
      "metadata": {
        "id": "EItCRxK9OWVv",
        "colab_type": "code",
        "colab": {}
      },
      "source": [
        "df.shape"
      ],
      "execution_count": 0,
      "outputs": []
    },
    {
      "cell_type": "code",
      "metadata": {
        "id": "HbkvqUL-PMmr",
        "colab_type": "code",
        "colab": {}
      },
      "source": [
        "df.head()"
      ],
      "execution_count": 0,
      "outputs": []
    },
    {
      "cell_type": "code",
      "metadata": {
        "id": "tDIkBDEaP_eA",
        "colab_type": "code",
        "colab": {}
      },
      "source": [
        "df.tail()"
      ],
      "execution_count": 0,
      "outputs": []
    },
    {
      "cell_type": "code",
      "metadata": {
        "id": "puYrD8S-QnuT",
        "colab_type": "code",
        "colab": {}
      },
      "source": [
        "df_test.head()"
      ],
      "execution_count": 0,
      "outputs": []
    },
    {
      "cell_type": "code",
      "metadata": {
        "id": "WpAcrYpUQEL6",
        "colab_type": "code",
        "colab": {}
      },
      "source": [
        "df_test.tail()"
      ],
      "execution_count": 0,
      "outputs": []
    },
    {
      "cell_type": "code",
      "metadata": {
        "id": "DWPMAIX1vMuM",
        "colab_type": "code",
        "colab": {}
      },
      "source": [
        "df.info()"
      ],
      "execution_count": 0,
      "outputs": []
    },
    {
      "cell_type": "markdown",
      "metadata": {
        "id": "JDANOjiKf4Qh",
        "colab_type": "text"
      },
      "source": [
        "# Data Preparation"
      ]
    },
    {
      "cell_type": "code",
      "metadata": {
        "id": "vrH6yLyI_LIx",
        "colab_type": "code",
        "colab": {}
      },
      "source": [
        "df_T= df.copy()\n",
        "# Capturing the Company: First 2 positions of WEBSITE.\n",
        "df_T['COMPANY']= df_T['WEBSITE'].str[0:2].astype(str)\n",
        "\n",
        "# Capturing the Country: rest of the string of WEBSITE.\n",
        "df_T['COUNTRY']= df_T['WEBSITE'].str[2:len(df['WEBSITE'])].astype(str)\n",
        "\n",
        "df_T.head()"
      ],
      "execution_count": 0,
      "outputs": []
    },
    {
      "cell_type": "code",
      "metadata": {
        "id": "Qbiq3bb5BFOI",
        "colab_type": "code",
        "colab": {}
      },
      "source": [
        "df_T['COMPANY'].value_counts() "
      ],
      "execution_count": 0,
      "outputs": []
    },
    {
      "cell_type": "markdown",
      "metadata": {
        "id": "vL2tFUwhBdwB",
        "colab_type": "text"
      },
      "source": [
        "There's no 'TL'. So I'll replace 'TL' by 'MV'."
      ]
    },
    {
      "cell_type": "code",
      "metadata": {
        "id": "d3Wf9MUqBsof",
        "colab_type": "code",
        "colab": {}
      },
      "source": [
        "df_T['COMPANY']= df_T['COMPANY'].replace('TL', 'MV')\n",
        "df_T['COMPANY'].value_counts() "
      ],
      "execution_count": 0,
      "outputs": []
    },
    {
      "cell_type": "code",
      "metadata": {
        "id": "Uyo-zI5aAz62",
        "colab_type": "code",
        "colab": {}
      },
      "source": [
        "df_T['COUNTRY'].value_counts() "
      ],
      "execution_count": 0,
      "outputs": []
    },
    {
      "cell_type": "code",
      "metadata": {
        "id": "PE3dyQM56HBT",
        "colab_type": "code",
        "colab": {}
      },
      "source": [
        "# Corrigindo Poland Abbreviation\n",
        "df_T['COUNTRY']= df_T['COUNTRY'].replace({'PLC': 'PL'})\n",
        "\n",
        "# Corrigindo France Abbreviation\n",
        "df_T['COUNTRY']= df_T['COUNTRY'].replace({'FRC': 'FR'})\n",
        "\n",
        "# Corrigindo DEC Abbreviation\n",
        "df_T['COUNTRY']= df_T['COUNTRY'].replace({'DEC': 'DE'})\n",
        "\n",
        "# Corrigindo DEC Abbreviation\n",
        "df_T['COUNTRY']= df_T['COUNTRY'].replace({'DKC': 'DK'})\n",
        "\n",
        "df_T['COUNTRY'].value_counts() "
      ],
      "execution_count": 0,
      "outputs": []
    },
    {
      "cell_type": "code",
      "metadata": {
        "id": "P86wEaspCljP",
        "colab_type": "code",
        "colab": {}
      },
      "source": [
        "#df_T['COUNTRY']= df_T['COUNTRY'].replace(['PLC', 'DEC', 'DKC', 'FRC'], 'MV')\n",
        "#df_T['COUNTRY'].value_counts() "
      ],
      "execution_count": 0,
      "outputs": []
    },
    {
      "cell_type": "code",
      "metadata": {
        "id": "DjGHXqYODAbU",
        "colab_type": "code",
        "colab": {}
      },
      "source": [
        "df_T['COUNTRY']= df_T['COUNTRY'].replace(['UK'], 'GB')\n",
        "df_T['COUNTRY'].value_counts() "
      ],
      "execution_count": 0,
      "outputs": []
    },
    {
      "cell_type": "markdown",
      "metadata": {
        "id": "v7QRlW3cf6M5",
        "colab_type": "text"
      },
      "source": [
        "## Treating date variables\n",
        "> Since there is no information regarding the year of the transaction, I will assume that the transactions are from 2018 or 2019. I will assign the year conveniently from the analysis of the variables DEPARTURE and ARRIVAL."
      ]
    },
    {
      "cell_type": "code",
      "metadata": {
        "id": "myZk676JnqrI",
        "colab_type": "code",
        "colab": {}
      },
      "source": [
        "df2= df_T.copy()\n",
        "df2['DEPARTURE_WITH_YEAR']= df2['DEPARTURE'] +'/2018'\n",
        "df2['ARRIVAL_WITH_YEAR']= df2['ARRIVAL'] +'/2018'\n",
        "df2['ARRIVAL_WITH_YEAR_FIXED']= df2['ARRIVAL'] +'/2019'\n",
        "\n",
        "df2['DEPARTURE_WITH_YEAR']= pd.to_datetime(df2['DEPARTURE_WITH_YEAR'])\n",
        "df2['ARRIVAL_WITH_YEAR']= pd.to_datetime(df2['ARRIVAL_WITH_YEAR'])\n",
        "df2['ARRIVAL_WITH_YEAR_FIXED']= pd.to_datetime(df2['ARRIVAL_WITH_YEAR_FIXED'])\n",
        "df2.head()"
      ],
      "execution_count": 0,
      "outputs": []
    },
    {
      "cell_type": "markdown",
      "metadata": {
        "id": "haF1q_a0gKcu",
        "colab_type": "text"
      },
      "source": [
        "As we do not have year information, in some cases/rows we have ARRIVAL < DEPARTURE. Let's take a look in some cases where ARRIVAL < DEPARTURE:"
      ]
    },
    {
      "cell_type": "code",
      "metadata": {
        "id": "ucsI7q6LhjEQ",
        "colab_type": "code",
        "colab": {}
      },
      "source": [
        "df3= df2.copy()\n",
        "\n",
        "# I created the variable IS_ARRIVAL_BEFORE_DEPARTURE to help us identify when ARRIVAL < DEPARTURE:\n",
        "df3['IS_ARRIVAL_BEFORE_DEPARTURE']= df3['ARRIVAL_WITH_YEAR'] < df3['DEPARTURE_WITH_YEAR']\n",
        "\n",
        "# Fixing cases when ARRIVAL < DEPARTURE\n",
        "df3.loc[df3['IS_ARRIVAL_BEFORE_DEPARTURE']== True, 'ARRIVAL_WITH_YEAR']= df3['ARRIVAL_WITH_YEAR_FIXED']\n",
        "df3[['ARRIVAL', 'DEPARTURE', 'DEPARTURE_WITH_YEAR', 'ARRIVAL_WITH_YEAR']][df3['IS_ARRIVAL_BEFORE_DEPARTURE']== True].head()"
      ],
      "execution_count": 0,
      "outputs": []
    },
    {
      "cell_type": "code",
      "metadata": {
        "id": "kM7_12PB6_aR",
        "colab_type": "code",
        "colab": {}
      },
      "source": [
        "df3.head()"
      ],
      "execution_count": 0,
      "outputs": []
    },
    {
      "cell_type": "markdown",
      "metadata": {
        "id": "eGfnRkrniBH3",
        "colab_type": "text"
      },
      "source": [
        "> Take for example line 15 (output above):\n",
        "* DEPARTURE= December 15th;\n",
        "* ARRIVAL= January 29th.\n",
        "\n",
        "> Without information for the year, then ARRIVAL < DEPARTURE. However, look at the variables DEPARTURE_WITH_YEAR and ARRIVAL_WITH_YEAR above:\n",
        "* DEPARTURE_WITH_YEAR= December 15th of 2018;\n",
        "* ARRIVAL_WITH_YEAR= January 29th of 2019.\n",
        "\n",
        "In this case, we fixed the problem.\n",
        "\n"
      ]
    },
    {
      "cell_type": "code",
      "metadata": {
        "id": "gtS019CfldHw",
        "colab_type": "code",
        "colab": {}
      },
      "source": [
        "# Drop the unnecessary variables:\n",
        "df3= df3.drop(columns= ['DEPARTURE', 'ARRIVAL', 'ARRIVAL_WITH_YEAR_FIXED', 'WEBSITE'])"
      ],
      "execution_count": 0,
      "outputs": []
    },
    {
      "cell_type": "markdown",
      "metadata": {
        "id": "_MknGmW_lGIz",
        "colab_type": "text"
      },
      "source": [
        "Next, we calculate the variable DIF_ARRIVAL_DEPARTURE = ARRIVAL_WITH_YEAR - DEPARTURE_WITH_YEAR:"
      ]
    },
    {
      "cell_type": "code",
      "metadata": {
        "id": "1ohReuC6Px3b",
        "colab_type": "code",
        "colab": {}
      },
      "source": [
        "# Calculate the variable DIF_ARRIVAL_DEPARTURE:\n",
        "df3['DIF_ARRIVAL_DEPARTURE']= (df3['ARRIVAL_WITH_YEAR']-df3['DEPARTURE_WITH_YEAR']).dt.days.astype(int)\n",
        "\n",
        "# Show some cases:\n",
        "df3[['DEPARTURE_WITH_YEAR', 'ARRIVAL_WITH_YEAR', 'DIF_ARRIVAL_DEPARTURE']].head() #[df3['IS_ARRIVAL_BEFORE_DEPARTURE']== True].head()"
      ],
      "execution_count": 0,
      "outputs": []
    },
    {
      "cell_type": "markdown",
      "metadata": {
        "id": "wb7YWHbtdvV-",
        "colab_type": "text"
      },
      "source": [
        "> Something strange with the variable DIF_ARRIVAL_DEPARTURE. Take a look at the line 2 (above). We have:\n",
        "* DEPARTURE_WITH_YEAR= 2018-07-29\n",
        "* ARRIVAL_WITH_YEAR= 2018-08-19\n",
        "\n",
        "It is 21 days between DEPARTURE and ARRIVAL!\n",
        "\n",
        "Let's take a look in some statistics below. For example, let's look at the proportion of cases where DIF_ARRIVAL_DEPARTURE > 5. I am using 5 as an example, but I consider 5 a long time between departure and arrival."
      ]
    },
    {
      "cell_type": "code",
      "metadata": {
        "id": "Bp6mCIkxO-ey",
        "colab_type": "code",
        "colab": {}
      },
      "source": [
        "df3_Zoom= df3[df3['DIF_ARRIVAL_DEPARTURE'] < 0]\n",
        "df3_Zoom.shape[0]"
      ],
      "execution_count": 0,
      "outputs": []
    },
    {
      "cell_type": "code",
      "metadata": {
        "id": "QDdSaImBoOhx",
        "colab_type": "code",
        "colab": {}
      },
      "source": [
        "df3_Zoom= df3[df3['DIF_ARRIVAL_DEPARTURE'] > 5]\n",
        "df3_Zoom.shape[0]"
      ],
      "execution_count": 0,
      "outputs": []
    },
    {
      "cell_type": "code",
      "metadata": {
        "id": "dCab0H3crqRr",
        "colab_type": "code",
        "colab": {}
      },
      "source": [
        "df3_Zoom.head()"
      ],
      "execution_count": 0,
      "outputs": []
    },
    {
      "cell_type": "markdown",
      "metadata": {
        "id": "7TAukV-OpJ9s",
        "colab_type": "text"
      },
      "source": [
        "Strangely, many cases over 5 days. \n",
        "\n",
        "Below, I present the distribution of the DIF_ARRIVAL_DEPARTURE variable. As we can see, there are cases older than 50 days!"
      ]
    },
    {
      "cell_type": "code",
      "metadata": {
        "id": "dfyphUD8ecHe",
        "colab_type": "code",
        "colab": {}
      },
      "source": [
        "sns.distplot(df3['DIF_ARRIVAL_DEPARTURE'])"
      ],
      "execution_count": 0,
      "outputs": []
    },
    {
      "cell_type": "markdown",
      "metadata": {
        "id": "5bp0-Ym9fENa",
        "colab_type": "text"
      },
      "source": [
        "Below I present some descriptive statistics for ARRIVAL_DEPARTURE."
      ]
    },
    {
      "cell_type": "markdown",
      "metadata": {
        "id": "AZZpOTs8qpeW",
        "colab_type": "text"
      },
      "source": [
        "Let's take a look at the Boxplot:"
      ]
    },
    {
      "cell_type": "code",
      "metadata": {
        "id": "k8M4TUXJfDDz",
        "colab_type": "code",
        "colab": {}
      },
      "source": [
        "plt.rcdefaults()\n",
        "sns.catplot(y='DIF_ARRIVAL_DEPARTURE', kind=\"box\", data=df3, height=4, aspect=1.5)\n",
        "plt.show()"
      ],
      "execution_count": 0,
      "outputs": []
    },
    {
      "cell_type": "code",
      "metadata": {
        "colab_type": "code",
        "id": "t8WnF3yIZxet",
        "colab": {}
      },
      "source": [
        "df3['TRIP_TYPE'].value_counts() "
      ],
      "execution_count": 0,
      "outputs": []
    },
    {
      "cell_type": "markdown",
      "metadata": {
        "id": "BWh7qJmLuDF-",
        "colab_type": "text"
      },
      "source": [
        "Function to detect Outliers based on IQR-Score:"
      ]
    },
    {
      "cell_type": "code",
      "metadata": {
        "id": "FEbNTzAzo-4l",
        "colab_type": "code",
        "colab": {}
      },
      "source": [
        "# Function that identify outlier using IQR-Score:\n",
        "def IQR_Score_Outlier_Detect(df, column):\n",
        "    #global df_T\n",
        "\n",
        "    Q1 = df[column].quantile(0.25)\n",
        "    Q3 = df[column].quantile(0.75)\n",
        "    IQR = Q3 - Q1\n",
        "    Lim_Inf= Q1-1.5*IQR\n",
        "    Lim_Sup= Q3+1.5*IQR\n",
        "    print(Lim_Inf, Lim_Sup)\n",
        "\n",
        "    # Identify the outlier\n",
        "    df[column+'_OUTLIER_IQR']= np.where(((df[column] < Lim_Inf)), True, False)\n",
        "    df[column+'_OUTLIER_IQR']= np.where(((df[column] > Lim_Sup)), True, False)\n",
        "\n",
        "    # Replace outliers by Lim_Inf and Lim_Sup\n",
        "    df[column+'_IQR'] = np.where(((df[column] < Lim_Inf)), Lim_Inf, df[column])\n",
        "    df[column+'_IQR'] = np.where(((df[column] > Lim_Sup)), Lim_Sup, df[column])   "
      ],
      "execution_count": 0,
      "outputs": []
    },
    {
      "cell_type": "code",
      "metadata": {
        "id": "nZudB5Il9jqB",
        "colab_type": "code",
        "colab": {}
      },
      "source": [
        "# Normalizando:\n",
        "from sklearn.preprocessing import StandardScaler, MinMaxScaler\n",
        "\n",
        "scaler_MinMaxScaler = MinMaxScaler()\n",
        "scaler_StandardScaler = StandardScaler()"
      ],
      "execution_count": 0,
      "outputs": []
    },
    {
      "cell_type": "code",
      "metadata": {
        "id": "W5ONAqNp-NBA",
        "colab_type": "code",
        "colab": {}
      },
      "source": [
        "df4= df3.copy()\n",
        "df4['DIF_ARRIVAL_DEPARTURE_S']= df4['DIF_ARRIVAL_DEPARTURE']\n",
        "df4['DIF_ARRIVAL_DEPARTURE_2']= df4['DIF_ARRIVAL_DEPARTURE']\n",
        "df4.head()"
      ],
      "execution_count": 0,
      "outputs": []
    },
    {
      "cell_type": "code",
      "metadata": {
        "id": "4AueLXZl_dKd",
        "colab_type": "code",
        "colab": {}
      },
      "source": [
        "df4['DIF_ARRIVAL_DEPARTURE_S']= scaler_MinMaxScaler.fit_transform(df4[['DIF_ARRIVAL_DEPARTURE_S']])\n",
        "df4.head()"
      ],
      "execution_count": 0,
      "outputs": []
    },
    {
      "cell_type": "code",
      "metadata": {
        "id": "_MIqCcoHtqX0",
        "colab_type": "code",
        "colab": {}
      },
      "source": [
        "IQR_Score_Outlier_Detect(df4,'DIF_ARRIVAL_DEPARTURE_2')\n",
        "df4[['DIF_ARRIVAL_DEPARTURE_2', 'DIF_ARRIVAL_DEPARTURE_2_IQR']].loc[df4['DIF_ARRIVAL_DEPARTURE_2_OUTLIER_IQR'] == True]"
      ],
      "execution_count": 0,
      "outputs": []
    },
    {
      "cell_type": "code",
      "metadata": {
        "id": "IatzH8987kWp",
        "colab_type": "code",
        "colab": {}
      },
      "source": [
        "df4.head()"
      ],
      "execution_count": 0,
      "outputs": []
    },
    {
      "cell_type": "code",
      "metadata": {
        "id": "MecuYMd_c53G",
        "colab_type": "code",
        "colab": {}
      },
      "source": [
        "# Deleting Unneeded Variables\n",
        "df5= df4.copy()\n",
        "df5= df5.drop(columns= ['TIMESTAMP','IS_ARRIVAL_BEFORE_DEPARTURE'], axis= 1)"
      ],
      "execution_count": 0,
      "outputs": []
    },
    {
      "cell_type": "markdown",
      "metadata": {
        "id": "9Sr8TfeK9OCi",
        "colab_type": "text"
      },
      "source": [
        "## Handling Missing Values"
      ]
    },
    {
      "cell_type": "code",
      "metadata": {
        "id": "aNGWYzhMuTJm",
        "colab_type": "code",
        "colab": {}
      },
      "source": [
        "df5.info()"
      ],
      "execution_count": 0,
      "outputs": []
    },
    {
      "cell_type": "markdown",
      "metadata": {
        "id": "Yczll7rA8eq_",
        "colab_type": "text"
      },
      "source": [
        "> Apparently we have some problems from Missing Values to DEVICE. Don't worry about the Missing values of the EXTRA_BAGGAGE variable that is our response variable and the 30,000 Missing values presented come from the test sample and are just the values we want to predict."
      ]
    },
    {
      "cell_type": "code",
      "metadata": {
        "id": "SKGY0hPj8uAf",
        "colab_type": "code",
        "colab": {}
      },
      "source": [
        "# Converting column DISTANCE to numeric. For this purpose, I'll cut the distance in the \",\"\n",
        "df6= df5.copy()\n",
        "df6[['DISTANCE_2','DISTANCE_REST']] = df6['DISTANCE'].str.split(\",\",expand=True)\n",
        "df6['DISTANCE_2']= pd.to_numeric(df6['DISTANCE_2'])\n",
        "df6[['HAUL_TYPE','DISTANCE','DISTANCE_2','DISTANCE_REST']].head(10)"
      ],
      "execution_count": 0,
      "outputs": []
    },
    {
      "cell_type": "markdown",
      "metadata": {
        "id": "huvfr3jfAtbQ",
        "colab_type": "text"
      },
      "source": [
        "Something strange with the minimum of DISTANCE_2. No sense DOMESTIC = 0. Much less INTERCONTINENTAL = 0. Let's investigate this a little further. However, I will work with DISTANCE_2 (following I will rename DISTANCE_2 TO DISTANCE) and disregard DISTANCE_REST."
      ]
    },
    {
      "cell_type": "code",
      "metadata": {
        "id": "uQ2buWxxBEGx",
        "colab_type": "code",
        "colab": {}
      },
      "source": [
        "df6= df6.drop(columns= ['DISTANCE_REST','DISTANCE'], axis= 1)\n",
        "df6= df6.rename({'DISTANCE_2': 'DISTANCE'}, axis=1)\n",
        "df6.head()"
      ],
      "execution_count": 0,
      "outputs": []
    },
    {
      "cell_type": "code",
      "metadata": {
        "id": "jaKP87NP9NBs",
        "colab_type": "code",
        "colab": {}
      },
      "source": [
        "# How many cases where DISTANCE = 0?\n",
        "df6[['DISTANCE']][df6['DISTANCE']==0].count()"
      ],
      "execution_count": 0,
      "outputs": []
    },
    {
      "cell_type": "markdown",
      "metadata": {
        "id": "mq8626SFDzW1",
        "colab_type": "text"
      },
      "source": [
        "There are 288 records where DISTANCE = 0. I consider these records to be Missing Values."
      ]
    },
    {
      "cell_type": "code",
      "metadata": {
        "id": "1adzZo47EwjN",
        "colab_type": "code",
        "colab": {}
      },
      "source": [
        "# Identifying Missing Values in DISTANCE. In this case, zeros.\n",
        "df6.loc[df6['DISTANCE'] == 0, 'DISTANCE']= np.nan\n",
        "\n",
        "# Checking Missing Values\n",
        "df6.isna().sum()"
      ],
      "execution_count": 0,
      "outputs": []
    },
    {
      "cell_type": "markdown",
      "metadata": {
        "id": "RaAjeTcnH24a",
        "colab_type": "text"
      },
      "source": [
        "Let's treat Missing Values in DISTANCE and DEVICE below:"
      ]
    },
    {
      "cell_type": "code",
      "metadata": {
        "id": "NFerujs2OUYt",
        "colab_type": "code",
        "colab": {}
      },
      "source": [
        "df6['DISTANCE'] = np.where((df6['DISTANCE'].isnull()), df6['DISTANCE'].median(), df6['DISTANCE'])\n",
        "df6['DISTANCE_2']= df6['DISTANCE']"
      ],
      "execution_count": 0,
      "outputs": []
    },
    {
      "cell_type": "code",
      "metadata": {
        "id": "5_H6goQqPOwX",
        "colab_type": "code",
        "colab": {}
      },
      "source": [
        "# Checking Missing Values\n",
        "df6.isna().sum()"
      ],
      "execution_count": 0,
      "outputs": []
    },
    {
      "cell_type": "code",
      "metadata": {
        "id": "3hnjGvFkPhQF",
        "colab_type": "code",
        "colab": {}
      },
      "source": [
        "# Treating Missing Values of DEVICE\n",
        "df6['DEVICE'].value_counts() "
      ],
      "execution_count": 0,
      "outputs": []
    },
    {
      "cell_type": "code",
      "metadata": {
        "id": "dT7DglEqD14R",
        "colab_type": "code",
        "colab": {}
      },
      "source": [
        "# Replacing NaN's of DEVICE with 'NO_DEVICE'\n",
        "df6[\"DEVICE\"].fillna(\"NO_DEVICE\", inplace= True)\n",
        "\n",
        "# Checking Missing Values\n",
        "df6.isna().sum()"
      ],
      "execution_count": 0,
      "outputs": []
    },
    {
      "cell_type": "markdown",
      "metadata": {
        "id": "No6lri5nwJhu",
        "colab_type": "text"
      },
      "source": [
        "As we can see above, missing values have been addressed."
      ]
    },
    {
      "cell_type": "markdown",
      "metadata": {
        "id": "-G_pCw2FUDhy",
        "colab_type": "text"
      },
      "source": [
        "# Handling Outliers in DISTANCE using IQR-Score\n",
        "> Consider the following output:"
      ]
    },
    {
      "cell_type": "code",
      "metadata": {
        "id": "neux3RWbEzQf",
        "colab_type": "code",
        "colab": {}
      },
      "source": [
        "df7= df6.copy()\n",
        "df7.head()"
      ],
      "execution_count": 0,
      "outputs": []
    },
    {
      "cell_type": "code",
      "metadata": {
        "colab_type": "code",
        "id": "vfhAydVcFlfj",
        "colab": {}
      },
      "source": [
        "df7['DISTANCE_S']= df7['DISTANCE_2']\n",
        "df7['DISTANCE_S']= scaler_MinMaxScaler.fit_transform(df7[['DISTANCE_S']])\n",
        "\n",
        "IQR_Score_Outlier_Detect(df7, 'DISTANCE_2')\n",
        "df7.head()"
      ],
      "execution_count": 0,
      "outputs": []
    },
    {
      "cell_type": "markdown",
      "metadata": {
        "id": "n5nGTv5SF-JA",
        "colab_type": "text"
      },
      "source": [
        "# Binning numeric features"
      ]
    },
    {
      "cell_type": "code",
      "metadata": {
        "id": "pIf8bQdKGFbs",
        "colab_type": "code",
        "colab": {}
      },
      "source": [
        "df8= df7.copy()\n",
        "\n",
        "d_Var_Target= {True: 1, False: 0}\n",
        "df8['EXTRA_BAGGAGE']= df8['EXTRA_BAGGAGE'].map(d_Var_Target)\n",
        "df8['SMS']= df8['SMS'].map(d_Var_Target)\n",
        "df8['TRAIN']= df8['TRAIN'].map(d_Var_Target)\n",
        "df8['DIF_ARRIVAL_DEPARTURE_2_OUTLIER_IQR']= df8['DIF_ARRIVAL_DEPARTURE_2_OUTLIER_IQR'].map(d_Var_Target)\n",
        "df8['DISTANCE_2_OUTLIER_IQR']= df8['DISTANCE_2_OUTLIER_IQR'].map(d_Var_Target)\n",
        "\n",
        "df9= df8.copy()\n",
        "df9.head()"
      ],
      "execution_count": 0,
      "outputs": []
    },
    {
      "cell_type": "markdown",
      "metadata": {
        "id": "WUxigAbNDH2P",
        "colab_type": "text"
      },
      "source": [
        "# FeatureTools"
      ]
    },
    {
      "cell_type": "code",
      "metadata": {
        "id": "uCZK0c7gMhaC",
        "colab_type": "code",
        "colab": {}
      },
      "source": [
        "!pip install featuretools"
      ],
      "execution_count": 0,
      "outputs": []
    },
    {
      "cell_type": "code",
      "metadata": {
        "id": "DYX-4_f34apE",
        "colab_type": "code",
        "colab": {}
      },
      "source": [
        "df9.reset_index('ID', inplace=True)\n",
        "df9.head()"
      ],
      "execution_count": 0,
      "outputs": []
    },
    {
      "cell_type": "code",
      "metadata": {
        "id": "_VkGMchVDInQ",
        "colab_type": "code",
        "colab": {}
      },
      "source": [
        "# Automated feature engineering\n",
        "import featuretools as ft\n",
        "import featuretools.variable_types as vtypes\n",
        "\n",
        "df_y= df9[['EXTRA_BAGGAGE', 'ID']]\n",
        "df9= df9.drop('EXTRA_BAGGAGE', axis= 1)\n",
        "\n",
        "es= ft.EntitySet(id = 'Trips')\n",
        "\n",
        "# adding a dataframe \n",
        "es.entity_from_dataframe(entity_id = 'df9', dataframe = df9, index = 'ID')\n",
        "es"
      ],
      "execution_count": 0,
      "outputs": []
    },
    {
      "cell_type": "code",
      "metadata": {
        "id": "OpmGOLxr85aR",
        "colab_type": "code",
        "colab": {}
      },
      "source": [
        "es['df9'].variables"
      ],
      "execution_count": 0,
      "outputs": []
    },
    {
      "cell_type": "code",
      "metadata": {
        "id": "yaJOx-6RDt41",
        "colab_type": "code",
        "colab": {}
      },
      "source": [
        "df9.head()"
      ],
      "execution_count": 0,
      "outputs": []
    },
    {
      "cell_type": "code",
      "metadata": {
        "id": "N8llyw8wBF5D",
        "colab_type": "code",
        "colab": {}
      },
      "source": [
        "variable_types = {'GDS': vtypes.Categorical,\n",
        "                  'NO_GDS': vtypes.Categorical,\n",
        "                  'SMS': vtypes.Categorical,\n",
        "                  'TRAIN': vtypes.Categorical}\n",
        "                  \n",
        "es.entity_from_dataframe(entity_id = 'df9', dataframe = df9, index = 'ID', variable_types= variable_types)\n",
        "\n",
        "es = es.normalize_entity(base_entity_id='df9', new_entity_id= 'HAUL_TYPE', index='ID')\n",
        "es = es.normalize_entity(base_entity_id='df9', new_entity_id= 'PRODUCT', index='ID')\n",
        "es = es.normalize_entity(base_entity_id='df9', new_entity_id= 'TRAIN', index='ID')\n",
        "es = es.normalize_entity(base_entity_id='df9', new_entity_id= 'TRIP_TYPE', index='ID')"
      ],
      "execution_count": 0,
      "outputs": []
    },
    {
      "cell_type": "code",
      "metadata": {
        "id": "3Guqqm8MGbmB",
        "colab_type": "code",
        "colab": {}
      },
      "source": [
        "es"
      ],
      "execution_count": 0,
      "outputs": []
    },
    {
      "cell_type": "code",
      "metadata": {
        "id": "P9iXYOVBWdGV",
        "colab_type": "code",
        "colab": {}
      },
      "source": [
        "import tensorflow as tf\n",
        "tf.test.gpu_device_name()"
      ],
      "execution_count": 0,
      "outputs": []
    },
    {
      "cell_type": "code",
      "metadata": {
        "id": "KvX5YTRJ_dHU",
        "colab_type": "code",
        "colab": {}
      },
      "source": [
        "#feature_matrix, feature_names = ft.dfs(entityset=es, target_entity = 'df9', max_depth = 3, verbose = 3, n_jobs= 1)"
      ],
      "execution_count": 0,
      "outputs": []
    },
    {
      "cell_type": "markdown",
      "metadata": {
        "id": "8M8tEbHoeMrV",
        "colab_type": "text"
      },
      "source": [
        "\n",
        "\n",
        "```\n",
        "Built 943 features\n",
        "\n",
        "\n",
        "Elapsed: 00:00 | Remaining: ? | Progress:   0%|          | Calculated: 0/10 chunksdistributed.comm.tcp - WARNING - Closing dangling stream in <TCP local=tcp://127.0.0.1:50938 remote=tcp://127.0.0.1:43581>\n",
        "\n",
        "\n",
        "Elapsed: 06:18 | Remaining: 56:50 | Progress:  10%|█         | Calculated: 1/10 chunks\n",
        "\n",
        "Elapsed: 12:35 | Remaining: 50:24 | Progress:  20%|██        | Calculated: 2/10 chunks\n",
        "\n",
        "Elapsed: 18:46 | Remaining: 43:53 | Progress:  30%|███       | Calculated: 3/10 chunks\n",
        "\n",
        "Elapsed: 25:02 | Remaining: 37:36 | Progress:  40%|████      | Calculated: 4/10 chunks\n",
        "\n",
        "Elapsed: 31:16 | Remaining: 31:17 | Progress:  50%|█████     | Calculated: 5/10 chunks\n",
        "\n",
        "Elapsed: 37:32 | Remaining: 25:01 | Progress:  60%|██████    | Calculated: 6/10 chunks\n",
        "\n",
        "Elapsed: 43:59 | Remaining: 18:56 | Progress:  70%|███████   | Calculated: 7/10 chunks\n",
        "\n",
        "Elapsed: 50:25 | Remaining: 12:42 | Progress:  80%|████████  | Calculated: 8/10 chunks\n",
        "\n",
        "Elapsed: 56:52 | Remaining: 06:22 | Progress:  90%|█████████ | Calculated: 9/10 chunks\n",
        "\n",
        "Elapsed: 1:03:26 | Remaining: 00:00 | Progress: 100%|██████████| Calculated: 10/10 chunks\n",
        "```\n",
        "\n"
      ]
    },
    {
      "cell_type": "code",
      "metadata": {
        "id": "09ouvwK7CyNw",
        "colab_type": "code",
        "colab": {}
      },
      "source": [
        "#feature_matrix.head()"
      ],
      "execution_count": 0,
      "outputs": []
    },
    {
      "cell_type": "code",
      "metadata": {
        "id": "m4UNsQkWHtFv",
        "colab_type": "code",
        "colab": {}
      },
      "source": [
        "#feature_matrix.to_csv('./sample_data/FeatureTools.csv')"
      ],
      "execution_count": 0,
      "outputs": []
    },
    {
      "cell_type": "code",
      "metadata": {
        "id": "U4qh8wTIcAc6",
        "colab_type": "code",
        "colab": {}
      },
      "source": [
        "from google.colab import drive\n",
        "drive.mount('/content/drive')"
      ],
      "execution_count": 0,
      "outputs": []
    },
    {
      "cell_type": "code",
      "metadata": {
        "id": "Z3OyF_RtcUXt",
        "colab_type": "code",
        "colab": {}
      },
      "source": [
        "#!cp ./sample_data/FeatureTools.csv /content/drive/My\\ Drive/"
      ],
      "execution_count": 0,
      "outputs": []
    },
    {
      "cell_type": "code",
      "metadata": {
        "id": "Ja4U0T7eql3u",
        "colab_type": "code",
        "colab": {}
      },
      "source": [
        "feature_matrix= df_train= pd.read_csv('/content/drive/My Drive/FeatureTools.csv', sep= \",\", index_col= 'ID')\n",
        "feature_matrix.head()"
      ],
      "execution_count": 0,
      "outputs": []
    },
    {
      "cell_type": "code",
      "metadata": {
        "id": "bI3HHXKPdXr1",
        "colab_type": "code",
        "colab": {}
      },
      "source": [
        "feature_matrix.shape"
      ],
      "execution_count": 0,
      "outputs": []
    },
    {
      "cell_type": "code",
      "metadata": {
        "id": "igTzRbLbsCzc",
        "colab_type": "code",
        "colab": {}
      },
      "source": [
        "feature_matrix.shape"
      ],
      "execution_count": 0,
      "outputs": []
    },
    {
      "cell_type": "code",
      "metadata": {
        "id": "0kro7VUfsHjc",
        "colab_type": "code",
        "colab": {}
      },
      "source": [
        "feature_matrix.head()"
      ],
      "execution_count": 0,
      "outputs": []
    },
    {
      "cell_type": "code",
      "metadata": {
        "id": "BknNArv1eyBV",
        "colab_type": "code",
        "colab": {}
      },
      "source": [
        "df10= feature_matrix.copy()\n",
        "\n",
        "from sklearn.preprocessing import LabelEncoder\n",
        "\n",
        "df10['DEVICE']= LabelEncoder().fit_transform(df10['DEVICE'])\n",
        "df10['HAUL_TYPE']= LabelEncoder().fit_transform(df10['HAUL_TYPE'])\n",
        "df10['PRODUCT']= LabelEncoder().fit_transform(df10['PRODUCT'])\n",
        "df10['TRIP_TYPE']= LabelEncoder().fit_transform(df10['TRIP_TYPE'])\n",
        "df10['COMPANY']= LabelEncoder().fit_transform(df10['COMPANY'])\n",
        "df10['COUNTRY']= LabelEncoder().fit_transform(df10['COUNTRY'])\n",
        "\n",
        "df10.reset_index('ID', inplace=True)\n",
        "df10.head()"
      ],
      "execution_count": 0,
      "outputs": []
    },
    {
      "cell_type": "code",
      "metadata": {
        "id": "afpKvj6Rz-TP",
        "colab_type": "code",
        "colab": {}
      },
      "source": [
        "limitPer = len(df10) * .80\n",
        "df10 = df10.dropna(thresh=limitPer, axis=1)\n",
        "df10.shape"
      ],
      "execution_count": 0,
      "outputs": []
    },
    {
      "cell_type": "code",
      "metadata": {
        "id": "yOWDYe5_KO5N",
        "colab_type": "code",
        "colab": {}
      },
      "source": [
        "df11= df10.merge(df_y, on= 'ID').set_index('ID')\n",
        "df11.head()"
      ],
      "execution_count": 0,
      "outputs": []
    },
    {
      "cell_type": "markdown",
      "metadata": {
        "id": "ONbFDWd_JEZw",
        "colab_type": "text"
      },
      "source": [
        "## Treating categorical variables"
      ]
    },
    {
      "cell_type": "code",
      "metadata": {
        "id": "xph3AArLwjcT",
        "colab_type": "code",
        "colab": {}
      },
      "source": [
        "l_Vars_Obj= list(df11.select_dtypes(include=['category', 'object']).columns)\n",
        "l_Vars_Obj"
      ],
      "execution_count": 0,
      "outputs": []
    },
    {
      "cell_type": "code",
      "metadata": {
        "id": "aGzOYgPYMv6L",
        "colab_type": "code",
        "colab": {}
      },
      "source": [
        "for col in l_Vars_Obj:\n",
        "    df11[col]= LabelEncoder().fit_transform(df11[col])"
      ],
      "execution_count": 0,
      "outputs": []
    },
    {
      "cell_type": "markdown",
      "metadata": {
        "id": "2IoUBan0QJWW",
        "colab_type": "text"
      },
      "source": [
        "# Modeling"
      ]
    },
    {
      "cell_type": "markdown",
      "metadata": {
        "id": "kwJtOjFmQOUy",
        "colab_type": "text"
      },
      "source": [
        "## Train/Test Split"
      ]
    },
    {
      "cell_type": "markdown",
      "metadata": {
        "id": "Kk_vdqSq6qD-",
        "colab_type": "text"
      },
      "source": [
        "### Balancing the training sample"
      ]
    },
    {
      "cell_type": "code",
      "metadata": {
        "id": "rRATe57y4Xmp",
        "colab_type": "code",
        "colab": {}
      },
      "source": [
        "#df11.to_csv('df11.csv')"
      ],
      "execution_count": 0,
      "outputs": []
    },
    {
      "cell_type": "code",
      "metadata": {
        "id": "sgDzwv35xmn7",
        "colab_type": "code",
        "colab": {}
      },
      "source": [
        "pd.set_option('display.max_columns', None)"
      ],
      "execution_count": 0,
      "outputs": []
    },
    {
      "cell_type": "code",
      "metadata": {
        "id": "QBahHsJwvKc1",
        "colab_type": "code",
        "colab": {}
      },
      "source": [
        "X= df11.loc[train_index, :]\n",
        "y= X.loc[:, 'EXTRA_BAGGAGE']\n",
        "\n",
        "X= X.drop('EXTRA_BAGGAGE', axis= 1)"
      ],
      "execution_count": 0,
      "outputs": []
    },
    {
      "cell_type": "code",
      "metadata": {
        "id": "WlMeQPcIN2MM",
        "colab_type": "code",
        "colab": {}
      },
      "source": [
        "X.head()"
      ],
      "execution_count": 0,
      "outputs": []
    },
    {
      "cell_type": "code",
      "metadata": {
        "id": "PhObop7nY8TK",
        "colab_type": "code",
        "colab": {}
      },
      "source": [
        "X.shape"
      ],
      "execution_count": 0,
      "outputs": []
    },
    {
      "cell_type": "code",
      "metadata": {
        "id": "XYnIQwlsZLGd",
        "colab_type": "code",
        "colab": {}
      },
      "source": [
        "from sklearn.model_selection import train_test_split\n",
        "X_train, X_test, y_train, y_test = train_test_split(X, y, test_size= 0.2)\n",
        "X_train.shape"
      ],
      "execution_count": 0,
      "outputs": []
    },
    {
      "cell_type": "code",
      "metadata": {
        "id": "PRPAV4-mZltP",
        "colab_type": "code",
        "colab": {}
      },
      "source": [
        "print(sorted(Counter(y_train).items()))"
      ],
      "execution_count": 0,
      "outputs": []
    },
    {
      "cell_type": "code",
      "metadata": {
        "id": "XdSoEGznOXKD",
        "colab_type": "code",
        "colab": {}
      },
      "source": [
        "from imblearn.over_sampling import SMOTE\n",
        "from collections import Counter\n",
        "\n",
        "# applying SMOTE to our data and checking the class counts\n",
        "X_Resampled1, y_Resampled1 = SMOTE().fit_resample(X_train, y_train)\n",
        "print(sorted(Counter(y_Resampled1).items()))"
      ],
      "execution_count": 0,
      "outputs": []
    },
    {
      "cell_type": "code",
      "metadata": {
        "id": "eOmLKRJLZIGv",
        "colab_type": "code",
        "colab": {}
      },
      "source": [
        "from imblearn.over_sampling import ADASYN\n",
        "\n",
        "# applying ADASYN\n",
        "X_Resampled2, y_Resampled2 = ADASYN().fit_resample(X_train, y_train)\n",
        "print(sorted(Counter(y_Resampled2).items()))"
      ],
      "execution_count": 0,
      "outputs": []
    },
    {
      "cell_type": "code",
      "metadata": {
        "id": "6qeibTMgZRGe",
        "colab_type": "code",
        "colab": {}
      },
      "source": [
        "# BorderlineSMOTE\n",
        "from imblearn.over_sampling import BorderlineSMOTE\n",
        "\n",
        "X_Resampled3, y_Resampled3 = BorderlineSMOTE().fit_resample(X_train, y_train)\n",
        "print(sorted(Counter(y_Resampled3).items()))"
      ],
      "execution_count": 0,
      "outputs": []
    },
    {
      "cell_type": "code",
      "metadata": {
        "id": "DSkWEZo_fndk",
        "colab_type": "code",
        "colab": {}
      },
      "source": [
        "# imports \n",
        "from imblearn.over_sampling import RandomOverSampler\n",
        "\n",
        "ros = RandomOverSampler(random_state=0)\n",
        "X_Resampled4, y_Resampled4 = ros.fit_resample(X_train, y_train)\n",
        "print(sorted(Counter(y_Resampled4).items()))"
      ],
      "execution_count": 0,
      "outputs": []
    },
    {
      "cell_type": "code",
      "metadata": {
        "id": "Um6eDoo5cfGx",
        "colab_type": "code",
        "colab": {}
      },
      "source": [
        "from sklearn.model_selection import train_test_split\n",
        "X_train1, X_test1, y_train1, y_test1 = train_test_split(X_Resampled1, y_Resampled1, test_size= 0.2)\n",
        "X_train2, X_test2, y_train2, y_test2 = train_test_split(X_Resampled2, y_Resampled2, test_size= 0.2)\n",
        "X_train3, X_test3, y_train3, y_test3 = train_test_split(X_Resampled3, y_Resampled3, test_size= 0.2)\n",
        "X_train4, X_test4, y_train4, y_test4 = train_test_split(X_Resampled4, y_Resampled4, test_size= 0.2)"
      ],
      "execution_count": 0,
      "outputs": []
    },
    {
      "cell_type": "markdown",
      "metadata": {
        "id": "zGvmZ07J6j_H",
        "colab_type": "text"
      },
      "source": [
        "Next, we will apply the following estimators / classifiers to the training sample:"
      ]
    },
    {
      "cell_type": "markdown",
      "metadata": {
        "id": "F6alHA0z9cHe",
        "colab_type": "text"
      },
      "source": [
        "# Evaluation\n",
        "> As I'll submit a binary output, I need to use a F1-Score, as suggested in the challenge. Firstly, let's understand what's F1-Score metric:\n",
        "\n",
        "* **Precision**: When the model predicts positive, how often is it correct? A low precision can also indicate a large number of False Positives.\n",
        "\n",
        "    $Precision= \\frac{TruePositives}{TruePositive + FalsePositives}$\n",
        "\n",
        "* **Recall**: Recall is the number of True Positives divided by the number of True Positives and the number of False Negatives. Put another way it is the number of positive predictions divided by the number of positive class values in the test data. It is also called Sensitivity or the True Positive Rate. A low recall indicates many False Negatives.\n",
        "\n",
        "    $Recall= \\frac{TruePositives}{TruePositives + FalseNegatives}$\n",
        "\n",
        "* **F1 Score**: F1 score conveys the balance between the precision and the recall.\n",
        "\n",
        "    $F1= 2*\\frac{Precision*Recall}{Precision+Recall}$\n",
        "\n",
        "Source: [Classification Accuracy is Not Enough: More Performance Measures You Can Use](https://machinelearningmastery.com/classification-accuracy-is-not-enough-more-performance-measures-you-can-use/)"
      ]
    },
    {
      "cell_type": "markdown",
      "metadata": {
        "id": "VNO3IhZO905D",
        "colab_type": "text"
      },
      "source": [
        "## Interpretation\n",
        "> A good F1 score means that you have low false positives and low false negatives, so you’re correctly identifying real threats and you are not disturbed by false alarms. \n",
        ">> An F1 score is considered perfect when it’s 1, while the model is a total failure when it’s 0."
      ]
    },
    {
      "cell_type": "code",
      "metadata": {
        "id": "2kYW_yzqvNdP",
        "colab_type": "code",
        "colab": {}
      },
      "source": [
        "from sklearn.model_selection import cross_val_score, StratifiedKFold, GridSearchCV\n",
        "from sklearn.metrics import f1_score, accuracy_score\n",
        "from sklearn.metrics import confusion_matrix\n",
        "\n",
        "i_Seed= 20111974\n",
        "i_CV= 10"
      ],
      "execution_count": 0,
      "outputs": []
    },
    {
      "cell_type": "code",
      "metadata": {
        "id": "DAGezEXE-ljX",
        "colab_type": "code",
        "colab": {}
      },
      "source": [
        "def make_confusion_matrix(cf,\n",
        "                          group_names=None,\n",
        "                          categories='auto',\n",
        "                          count=True,\n",
        "                          percent=True,\n",
        "                          cbar=True,\n",
        "                          xyticks=False,\n",
        "                          xyplotlabels=True,\n",
        "                          sum_stats=True,\n",
        "                          figsize= (8,8),\n",
        "                          cmap='Blues'):\n",
        "    '''\n",
        "    This function will make a pretty plot of an sklearn Confusion Matrix cm using a Seaborn heatmap visualization.\n",
        "    Arguments\n",
        "    ---------\n",
        "    cf:            confusion matrix to be passed in\n",
        "    group_names:   List of strings that represent the labels row by row to be shown in each square.\n",
        "    categories:    List of strings containing the categories to be displayed on the x,y axis. Default is 'auto'\n",
        "    count:         If True, show the raw number in the confusion matrix. Default is True.\n",
        "    normalize:     If True, show the proportions for each category. Default is True.\n",
        "    cbar:          If True, show the color bar. The cbar values are based off the values in the confusion matrix.\n",
        "                   Default is True.\n",
        "    xyticks:       If True, show x and y ticks. Default is True.\n",
        "    xyplotlabels:  If True, show 'True Label' and 'Predicted Label' on the figure. Default is True.\n",
        "    sum_stats:     If True, display summary statistics below the figure. Default is True.\n",
        "    figsize:       Tuple representing the figure size. Default will be the matplotlib rcParams value.\n",
        "    cmap:          Colormap of the values displayed from matplotlib.pyplot.cm. Default is 'Blues'\n",
        "                   See http://matplotlib.org/examples/color/colormaps_reference.html\n",
        "    '''\n",
        "\n",
        "\n",
        "    # CODE TO GENERATE TEXT INSIDE EACH SQUARE\n",
        "    blanks = ['' for i in range(cf.size)]\n",
        "\n",
        "    if group_names and len(group_names)==cf.size:\n",
        "        group_labels = [\"{}\\n\".format(value) for value in group_names]\n",
        "    else:\n",
        "        group_labels = blanks\n",
        "\n",
        "    if count:\n",
        "        group_counts = [\"{0:0.0f}\\n\".format(value) for value in cf.flatten()]\n",
        "    else:\n",
        "        group_counts = blanks\n",
        "\n",
        "    if percent:\n",
        "        group_percentages = [\"{0:.2%}\".format(value) for value in cf.flatten()/np.sum(cf)]\n",
        "    else:\n",
        "        group_percentages = blanks\n",
        "\n",
        "    box_labels = [f\"{v1}{v2}{v3}\".strip() for v1, v2, v3 in zip(group_labels,group_counts,group_percentages)]\n",
        "    box_labels = np.asarray(box_labels).reshape(cf.shape[0],cf.shape[1])\n",
        "\n",
        "\n",
        "    # CODE TO GENERATE SUMMARY STATISTICS & TEXT FOR SUMMARY STATS\n",
        "    if sum_stats:\n",
        "        #Accuracy is sum of diagonal divided by total observations\n",
        "        accuracy  = np.trace(cf) / float(np.sum(cf))\n",
        "\n",
        "        #if it is a binary confusion matrix, show some more stats\n",
        "        if len(cf)==2:\n",
        "            #Metrics for Binary Confusion Matrices\n",
        "            precision = cf[1,1] / sum(cf[:,1])\n",
        "            recall    = cf[1,1] / sum(cf[1,:])\n",
        "            f1_score  = 2*precision*recall / (precision + recall)\n",
        "            stats_text = \"\\n\\nAccuracy={:0.3f}\\nPrecision={:0.3f}\\nRecall={:0.3f}\\nF1 Score={:0.3f}\".format(accuracy,precision,recall,f1_score)\n",
        "        else:\n",
        "            stats_text = \"\\n\\nAccuracy={:0.3f}\".format(accuracy)\n",
        "    else:\n",
        "        stats_text = \"\"\n",
        "\n",
        "\n",
        "    # SET FIGURE PARAMETERS ACCORDING TO OTHER ARGUMENTS\n",
        "    if figsize==None:\n",
        "        #Get default figure size if not set\n",
        "        figsize = plt.rcParams.get('figure.figsize')\n",
        "\n",
        "    if xyticks==False:\n",
        "        #Do not show categories if xyticks is False\n",
        "        categories=False\n",
        "\n",
        "\n",
        "    # MAKE THE HEATMAP VISUALIZATION\n",
        "    plt.figure(figsize=figsize)\n",
        "    sns.heatmap(cf,annot=box_labels,fmt=\"\",cmap=cmap,cbar=cbar,xticklabels=categories,yticklabels=categories)\n",
        "\n",
        "    if xyplotlabels:\n",
        "        plt.ylabel('True label')\n",
        "        plt.xlabel('Predicted label' + stats_text)\n",
        "    else:\n",
        "        plt.xlabel(stats_text)"
      ],
      "execution_count": 0,
      "outputs": []
    },
    {
      "cell_type": "code",
      "metadata": {
        "id": "h5k__EnD7tGS",
        "colab_type": "code",
        "colab": {}
      },
      "source": [
        "# Definindo a função para o GridSearchCV\n",
        "def GridSearchOptimizer(modelo, Model_Opt, d_Parametros, X_train, y_train, X_test, y_test, cv= i_CV):\n",
        "    Model_GridSearchCV = GridSearchCV(modelo, d_Parametros, cv= i_CV, n_jobs= -1, verbose= 10, scoring= 'accuracy')\n",
        "    Model_GridSearchCV.fit(X_train, y_train)\n",
        "    #print(f\"\\nGridSearchCV levou {tempo_elapsed:.2f} segundos.\")\n",
        "\n",
        "    # Parâmetros que otimizam a classificação:\n",
        "    print(f'\\nParametros otimizados: {Model_GridSearchCV.best_params_}')\n",
        "    \n",
        "    if Model_Opt== 'Model_DT2':\n",
        "        print(f'\\nDecisionTreeClassifier *********************************************************************************************************')\n",
        "        Model_Opt= DecisionTreeClassifier(criterion= Model_GridSearchCV.best_params_['criterion'], \n",
        "                                          max_depth= Model_GridSearchCV.best_params_['max_depth'],\n",
        "                                          max_leaf_nodes= Model_GridSearchCV.best_params_['max_leaf_nodes'],\n",
        "                                          min_samples_split= Model_GridSearchCV.best_params_['min_samples_leaf'],\n",
        "                                          min_samples_leaf= Model_GridSearchCV.best_params_['min_samples_split'], \n",
        "                                          random_state= i_Seed)\n",
        "    elif Model_Opt== 'Model_RF2':\n",
        "        print(f'\\nRandomForestClassifier *********************************************************************************************************')\n",
        "        Model_Opt= RandomForestClassifier(bootstrap= Model_GridSearchCV.best_params_['bootstrap'],\n",
        "                                          max_depth= Model_GridSearchCV.best_params_['max_depth'],\n",
        "                                          max_features= Model_GridSearchCV.best_params_['max_features'],\n",
        "                                          min_samples_leaf= Model_GridSearchCV.best_params_['min_samples_leaf'],\n",
        "                                          min_samples_split= Model_GridSearchCV.best_params_['min_samples_split'],\n",
        "                                          n_estimators= Model_GridSearchCV.best_params_['n_estimators'],\n",
        "                                          random_state= i_Seed)\n",
        "        \n",
        "    elif Model_Opt== 'Model_AB2':\n",
        "        print(f'\\nAdaBoostClassifier *********************************************************************************************************')\n",
        "        Model_Opt= AdaBoostClassifier(algorithm='SAMME.R',\n",
        "                                      base_estimator=RandomForestClassifier(bootstrap= False, \n",
        "                                                                            max_depth= 10,\n",
        "                                                                            max_features= 'auto',\n",
        "                                                                            min_samples_leaf= 1, \n",
        "                                                                            min_samples_split= 2,\n",
        "                                                                            n_estimators= 400),\n",
        "                                      learning_rate= Model_GridSearchCV.best_params_['learning_rate'], \n",
        "                                      n_estimators= Model_GridSearchCV.best_params_['n_estimators'], \n",
        "                                      random_state=i_Seed)\n",
        "        \n",
        "    elif Model_Opt== 'Model_GB2':\n",
        "        print(f'\\nGradientBoostingClassifier *********************************************************************************************************')\n",
        "        Model_Opt= GradientBoostingClassifier(learning_rate= Model_GridSearchCV.best_params_['learning_rate'],\n",
        "                                              n_estimators= Model_GridSearchCV.best_params_['n_estimators'],\n",
        "                                              max_depth= Model_GridSearchCV.best_params_['max_depth'],\n",
        "                                              min_samples_split= Model_GridSearchCV.best_params_['min_samples_split'],\n",
        "                                              min_samples_leaf= Model_GridSearchCV.best_params_['min_samples_leaf'],\n",
        "                                              max_features= Model_GridSearchCV.best_params_['max_features'])\n",
        "        \n",
        "    elif Model_Opt== 'Model_XGB2':\n",
        "        print(f'\\nXGBoostingClassifier *********************************************************************************************************')\n",
        "        Model_Opt= XGBoostingClassifier(learning_rate= Model_GridSearchCV.best_params_['learning_rate'],\n",
        "                                        max_depth= Model_GridSearchCV.best_params_['max_depth'],\n",
        "                                        subsample= Model_GridSearchCV.best_params_['subsample'],\n",
        "                                        gamma= Model_GridSearchCV.best_params_['gamma'],\n",
        "                                        reg_lambda= Model_GridSearchCV.best_params_['reg_lambda'],\n",
        "                                        reg_alpha= Model_GridSearchCV.best_params_['reg_alpha'],\n",
        "                                        n_estimators= Model_GridSearchCV.best_params_['n_estimators'],\n",
        "                                        min_child_weight= Model_GridSearchCV.best_params_['min_child_weight'])\n",
        "\n",
        "                                        ': [1,3,5,7],\n",
        "                    '': [100,250,500,1000],\n",
        "                    '': [1, 1.5, 2, 3, 4.5],\n",
        "                    '': [0, 0.5, 1],\n",
        "                    '': [0.01, 0.1, 0.3, 0.5, 1, 1.5, 2],\n",
        "                    '': [0.2, 0.4, 0.5, 0.6, 0.7],\n",
        "                    'max_depth': [2,4,7,10],\n",
        "                    'learning_rate\n",
        "        \n",
        "    # Treina novamente usando os parametros otimizados...\n",
        "    Model_Opt.fit(X_train, y_train)\n",
        "\n",
        "    # Cross-Validation com 10 folds\n",
        "    print(f'\\n********* CROSS-VALIDATION ***********')\n",
        "    a_Scores_CV = cross_val_score(Model_Opt, X_train, y_train, cv= i_CV)\n",
        "    print(f'Média das Acurácias calculadas pelo CV....: {100*round(a_Scores_CV.mean(),4)}')\n",
        "    print(f'std médio das Acurácias calculadas pelo CV: {100*round(a_Scores_CV.std(),4)}')\n",
        "\n",
        "    # Faz predições com os parametros otimizados...\n",
        "    y_pred = Model_Opt.predict(X_test)\n",
        "  \n",
        "    # Importância das COLUNAS\n",
        "    print(f'\\n********* IMPORTÂNCIA DAS COLUNAS ***********')\n",
        "    df_Importance= pd.DataFrame(zip(l_Col_Names, Model_Opt.feature_importances_), columns= ['coluna', 'importancia'])\n",
        "    df_Importance= df_Importance.sort_values(by= ['importancia'], ascending=False)\n",
        "    print(df_Importance)\n",
        "\n",
        "    # Matriz de Confusão\n",
        "    print(f'\\n********* CONFUSION MATRIX - PARAMETER TUNNING ***********')\n",
        "    cf_matrix = confusion_matrix(y_test, y_pred)\n",
        "    cf_labels = ['True Neg','False Pos','False Neg','True Pos']\n",
        "    cf_categories = ['Zero', 'One']\n",
        "    make_confusion_matrix(cf_matrix, group_names= cf_labels, categories= cf_categories)\n",
        "\n",
        "    return Model_Opt, Model_GridSearchCV.best_params_"
      ],
      "execution_count": 0,
      "outputs": []
    },
    {
      "cell_type": "markdown",
      "metadata": {
        "id": "GccQLum7M8NN",
        "colab_type": "text"
      },
      "source": [
        "# XGBoosting"
      ]
    },
    {
      "cell_type": "code",
      "metadata": {
        "id": "a2EknshxXcGX",
        "colab_type": "code",
        "colab": {}
      },
      "source": [
        "from xgboost import XGBClassifier\n",
        "import xgboost as xgb\n",
        "\n",
        "# Instancia...\n",
        "Model_XGB= XGBClassifier(learning_rate=0.01,  \n",
        "                      subsample = 0.8,\n",
        "                      objective='binary:logistic', \n",
        "                      max_depth= 3)"
      ],
      "execution_count": 0,
      "outputs": []
    },
    {
      "cell_type": "code",
      "metadata": {
        "colab_type": "code",
        "id": "Rn7w0C5-Xci8",
        "colab": {}
      },
      "source": [
        "Model_XGB.fit(X_train1, y_train1)\n",
        "y_pred1 = Model_XGB.predict(X_test1)\n",
        "accuracy_score(y_test1, y_pred1)"
      ],
      "execution_count": 0,
      "outputs": []
    },
    {
      "cell_type": "code",
      "metadata": {
        "colab_type": "code",
        "id": "GTEoiuT2XcjC",
        "colab": {}
      },
      "source": [
        "Model_XGB.fit(X_train2, y_train2)\n",
        "y_pred2 = Model_XGB.predict(X_test2)\n",
        "accuracy_score(y_test2, y_pred2)"
      ],
      "execution_count": 0,
      "outputs": []
    },
    {
      "cell_type": "code",
      "metadata": {
        "colab_type": "code",
        "id": "QPQIPlfnXcjF",
        "colab": {}
      },
      "source": [
        "Model_XGB.fit(X_train3, y_train3)\n",
        "y_pred3 = Model_XGB.predict(X_test3)\n",
        "accuracy_score(y_test3, y_pred3)"
      ],
      "execution_count": 0,
      "outputs": []
    },
    {
      "cell_type": "code",
      "metadata": {
        "colab_type": "code",
        "id": "_K3pdITKXcjH",
        "colab": {}
      },
      "source": [
        "Model_XGB.fit(X_train4, y_train4)\n",
        "y_pred4 = Model_XGB.predict(X_test4)\n",
        "accuracy_score(y_test4, y_pred4)"
      ],
      "execution_count": 0,
      "outputs": []
    },
    {
      "cell_type": "code",
      "metadata": {
        "id": "qKKBid2eE9wj",
        "colab_type": "code",
        "colab": {}
      },
      "source": [
        "# Calculate feature importances\n",
        "importances = Model_XGB.feature_importances_\n",
        "importances[0:45]"
      ],
      "execution_count": 0,
      "outputs": []
    },
    {
      "cell_type": "code",
      "metadata": {
        "id": "X-hpfvTDKXQ4",
        "colab_type": "code",
        "colab": {}
      },
      "source": [
        "# Colunas mais importantes\n",
        "X2= X_train.iloc[:, [0,3,6,7,8,9,14,20,22,27,28]]\n",
        "X_test= X_test.iloc[:, [0,3,6,7,8,9,14,20,22,27,28]]\n",
        "l_Cols= X2.columns\n",
        "X2.shape"
      ],
      "execution_count": 0,
      "outputs": []
    },
    {
      "cell_type": "code",
      "metadata": {
        "id": "mwuFPFD8fjnz",
        "colab_type": "code",
        "colab": {}
      },
      "source": [
        "y_train.shape"
      ],
      "execution_count": 0,
      "outputs": []
    },
    {
      "cell_type": "code",
      "metadata": {
        "id": "ZimlpIGXfOEm",
        "colab_type": "code",
        "colab": {}
      },
      "source": [
        "X_Resampled22, y_Resampled22 = BorderlineSMOTE().fit_resample(X2, y_train)"
      ],
      "execution_count": 0,
      "outputs": []
    },
    {
      "cell_type": "code",
      "metadata": {
        "id": "2nPOUsrQhJi8",
        "colab_type": "code",
        "colab": {}
      },
      "source": [
        "X_Resampled22= pd.DataFrame(X_Resampled22, columns= [X2.columns])\n",
        "y_Resampled22= pd.DataFrame(y_Resampled22)"
      ],
      "execution_count": 0,
      "outputs": []
    },
    {
      "cell_type": "code",
      "metadata": {
        "id": "ItrpRxkGfrJY",
        "colab_type": "code",
        "colab": {}
      },
      "source": [
        "Model_XGB.fit(X_Resampled22, y_Resampled22)\n",
        "y_pred = Model_XGB.predict(X_test)\n",
        "accuracy_score(y_test, y_pred)"
      ],
      "execution_count": 0,
      "outputs": []
    },
    {
      "cell_type": "code",
      "metadata": {
        "id": "NOiC965-ND6X",
        "colab_type": "code",
        "colab": {}
      },
      "source": [
        "# Cross-Validation com 10 folds\n",
        "a_Scores_CV = cross_val_score(Model_XGB, X_train22, y_train2, cv= i_CV)\n",
        "print(f'Média das Acurácias calculadas pelo CV....: {100*round(a_Scores_CV.mean(),4)}')\n",
        "print(f'std médio das Acurácias calculadas pelo CV: {100*round(a_Scores_CV.std(),4)}')"
      ],
      "execution_count": 0,
      "outputs": []
    },
    {
      "cell_type": "code",
      "metadata": {
        "id": "uvdSbFiFNLCV",
        "colab_type": "code",
        "colab": {}
      },
      "source": [
        "# Dicionário de parâmetros para XGBoost:\n",
        "d_Parametros_XGB = {'min_child_weight': [1,3,5,7],\n",
        "                    'n_estimators': [100,250,500,1000],\n",
        "                    'reg_lambda': [1, 1.5, 2, 3, 4.5],\n",
        "                    'reg_alpha': [0, 0.5, 1],\n",
        "                    'gamma': [0.01, 0.1, 0.3, 0.5, 1, 1.5, 2],\n",
        "                    'subsample': [0.2, 0.4, 0.5, 0.6, 0.7],\n",
        "                    'max_depth': [2,4,7,10],\n",
        "                    'learning_rate': [0.1, 0.01, 0.001]}"
      ],
      "execution_count": 0,
      "outputs": []
    },
    {
      "cell_type": "code",
      "metadata": {
        "id": "PykqgO4qV3kf",
        "colab_type": "code",
        "colab": {}
      },
      "source": [
        "# Invoca a função\n",
        "Model_XGB, best_params= GridSearchOptimizer(Model_XGB, 'Model_XGB2', d_Parametros_XGB, X_train, y_train, X_test, y_test, cv= i_CV)"
      ],
      "execution_count": 0,
      "outputs": []
    },
    {
      "cell_type": "code",
      "metadata": {
        "id": "KXR4RShaNU-p",
        "colab_type": "code",
        "colab": {}
      },
      "source": [
        "# Como o procedimento acima levou 372 minutos para executar, então vou estimar Model_XGB2 abaixo usando os parâmetros acima estimados\n",
        "best_params= {'colsample_bytree': 0.8, 'gamma': 0.5, 'learning_rate': 0.51, 'max_depth': 5, 'min_child_weight': 1, 'subsample': 0.6}\n",
        "\n",
        "Model_XGB2= XGBClassifier(min_child_weight= best_params['min_child_weight'],\n",
        "                          gamma= best_params['gamma'],\n",
        "                          subsample= best_params['subsample'],\n",
        "                          colsample_bytree= best_params['colsample_bytree'],\n",
        "                          max_depth= best_params['max_depth'],\n",
        "                          learning_rate= best_params['learning_rate'], \n",
        "                          random_state= i_Seed)"
      ],
      "execution_count": 0,
      "outputs": []
    },
    {
      "cell_type": "markdown",
      "metadata": {
        "id": "sQekDqR7ncE2",
        "colab_type": "text"
      },
      "source": [
        "# Submitting my model"
      ]
    },
    {
      "cell_type": "code",
      "metadata": {
        "id": "hrL_MLi7n_EP",
        "colab_type": "code",
        "colab": {}
      },
      "source": [
        "X_Val= df10[l_Vars][df10['EXTRA_BAGGAGE'].isna()]\n",
        "y_Val= df10[['EXTRA_BAGGAGE']][df10['EXTRA_BAGGAGE'].isna()]\n",
        "\n",
        "print(X_Val.shape, y_Val.shape)"
      ],
      "execution_count": 0,
      "outputs": []
    },
    {
      "cell_type": "code",
      "metadata": {
        "id": "XHci3WoTlY5c",
        "colab_type": "code",
        "colab": {}
      },
      "source": [
        "X_Val['EXTRA_BAGGAGE'] = clf.predict(X_Val)\n",
        "y_pred_submission= X_Val[['EXTRA_BAGGAGE']]\n",
        "y_pred_submission.head()"
      ],
      "execution_count": 0,
      "outputs": []
    },
    {
      "cell_type": "code",
      "metadata": {
        "id": "tnjBBMglqfL6",
        "colab_type": "code",
        "colab": {}
      },
      "source": [
        "y_pred_submission['EXTRA_BAGGAGE']= y_pred_submission['EXTRA_BAGGAGE'].map({0.0: False, 1.0: True})\n",
        "y_pred_submission.head()"
      ],
      "execution_count": 0,
      "outputs": []
    },
    {
      "cell_type": "code",
      "metadata": {
        "id": "R1rxBI4toZ4Y",
        "colab_type": "code",
        "colab": {}
      },
      "source": [
        "y_pred_submission.to_csv(r'eDreams_Submission.csv')"
      ],
      "execution_count": 0,
      "outputs": []
    }
  ]
}