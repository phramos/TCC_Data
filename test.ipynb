{
  "nbformat": 4,
  "nbformat_minor": 0,
  "metadata": {
    "colab": {
      "name": "Untitled23.ipynb",
      "provenance": [],
      "private_outputs": true,
      "include_colab_link": true
    },
    "kernelspec": {
      "name": "python3",
      "display_name": "Python 3"
    }
  },
  "cells": [
    {
      "cell_type": "markdown",
      "metadata": {
        "id": "view-in-github",
        "colab_type": "text"
      },
      "source": [
        "<a href=\"https://colab.research.google.com/github/MathMachado/eDreams/blob/master/test.ipynb\" target=\"_parent\"><img src=\"https://colab.research.google.com/assets/colab-badge.svg\" alt=\"Open In Colab\"/></a>"
      ]
    },
    {
      "cell_type": "markdown",
      "metadata": {
        "id": "17LuXi1voKCf",
        "colab_type": "text"
      },
      "source": [
        "# Import main Python libraries\n",
        "\n"
      ]
    },
    {
      "cell_type": "code",
      "metadata": {
        "id": "fQy1h2RVoVxf",
        "colab_type": "code",
        "colab": {}
      },
      "source": [
        "!pip install bamboolib"
      ],
      "execution_count": 0,
      "outputs": []
    },
    {
      "cell_type": "code",
      "metadata": {
        "id": "aIMVpjquns-S",
        "colab_type": "code",
        "colab": {}
      },
      "source": [
        "import pandas as pd\n",
        "import numpy as np\n",
        "\n",
        "import matplotlib\n",
        "import bamboolib\n",
        "import matplotlib.pyplot as plt\n",
        "import seaborn as sns\n",
        "%matplotlib inline"
      ],
      "execution_count": 0,
      "outputs": []
    },
    {
      "cell_type": "code",
      "metadata": {
        "id": "tWfL-XJFnZIp",
        "colab_type": "code",
        "colab": {}
      },
      "source": [
        "url= \"https://raw.githubusercontent.com/MathMachado/eDreams/master/Dataframes/train.csv?token=AGDJQ67D2WENLE2YEMFJBPC5SHK26\"\n",
        "df= pd.read_csv(url, sep= \";\", index_col='ID', parse_dates = ['DEPARTURE', 'ARRIVAL'])\n",
        "df.head()"
      ],
      "execution_count": 0,
      "outputs": []
    },
    {
      "cell_type": "code",
      "metadata": {
        "id": "DWPMAIX1vMuM",
        "colab_type": "code",
        "colab": {}
      },
      "source": [
        "df.info()"
      ],
      "execution_count": 0,
      "outputs": []
    },
    {
      "cell_type": "code",
      "metadata": {
        "id": "myZk676JnqrI",
        "colab_type": "code",
        "colab": {}
      },
      "source": [
        "# Treating date type columns\n",
        "from datetime import date, datetime\n",
        "\n",
        "df2= df.copy()\n",
        "df2['DEPARTURE_2']= df2['DEPARTURE'] +'/2018'\n",
        "df2['ARRIVAL_2']= df2['ARRIVAL'] +'/2018'\n",
        "df2['ARRIVAL_3']= df2['ARRIVAL'] +'/2019'\n",
        "\n",
        "df2['DEPARTURE_2']= pd.to_datetime(df2['DEPARTURE_2'])\n",
        "df2['ARRIVAL_2']= pd.to_datetime(df2['ARRIVAL_2'])\n",
        "df2['ARRIVAL_3']= pd.to_datetime(df2['ARRIVAL_3'])\n",
        "df2.head()"
      ],
      "execution_count": 0,
      "outputs": []
    },
    {
      "cell_type": "code",
      "metadata": {
        "id": "rPmXrFBFuLt_",
        "colab_type": "code",
        "colab": {}
      },
      "source": [
        "# Fixing ARRIVAL when ARRIVAL < DEPARTURE\n",
        "df3= df2.copy()\n",
        "df3['IS_ARRIVAL_BEFORE_DEPARTURE']= df3['ARRIVAL_2']<df3['DEPARTURE_2']\n",
        "df3.loc[df3['ARRIVAL_2'] < df3['DEPARTURE_2'], 'ARRIVAL_2']= df3['ARRIVAL_3']\n",
        "\n",
        "# Calculating the differente between ARRIVAL and DEPARTURE\n",
        "df3['ARRIVAL_DEPARTURE']= df3['ARRIVAL_2']-df3['DEPARTURE_2']\n",
        "df3= df3.drop(columns= ['DEPARTURE','ARRIVAL','ARRIVAL_3'], axis= 1)"
      ],
      "execution_count": 0,
      "outputs": []
    },
    {
      "cell_type": "markdown",
      "metadata": {
        "id": "T0y1M3huDHJt",
        "colab_type": "text"
      },
      "source": [
        "As we can see above, all rows of the dataframe refers to July."
      ]
    },
    {
      "cell_type": "code",
      "metadata": {
        "id": "_L2u5x-aDQv0",
        "colab_type": "code",
        "colab": {}
      },
      "source": [
        "df3['ARRIVAL_DEPARTURE'].value_counts()"
      ],
      "execution_count": 0,
      "outputs": []
    },
    {
      "cell_type": "code",
      "metadata": {
        "id": "aNGWYzhMuTJm",
        "colab_type": "code",
        "colab": {}
      },
      "source": [
        "df3.info()"
      ],
      "execution_count": 0,
      "outputs": []
    },
    {
      "cell_type": "markdown",
      "metadata": {
        "id": "Yczll7rA8eq_",
        "colab_type": "text"
      },
      "source": [
        "Aparentemente, não há problemas de Missing Values."
      ]
    },
    {
      "cell_type": "code",
      "metadata": {
        "id": "Jj3hAuvm4luL",
        "colab_type": "code",
        "colab": {}
      },
      "source": [
        "df3.head(50)"
      ],
      "execution_count": 0,
      "outputs": []
    },
    {
      "cell_type": "code",
      "metadata": {
        "id": "st9zbGSPCekA",
        "colab_type": "code",
        "colab": {}
      },
      "source": [
        "df3= df3.drop(columns= ['DEPARTURE_2','ARRIVAL_2'], axis= 1)"
      ],
      "execution_count": 0,
      "outputs": []
    },
    {
      "cell_type": "code",
      "metadata": {
        "id": "SKGY0hPj8uAf",
        "colab_type": "code",
        "colab": {}
      },
      "source": [
        "# Converting column DISTANCE to numeric. For this purpose, I'll cut the distance in the \",\"\n",
        "\n",
        "df3[['DISTANCE_2','DISTANCE_REST']] = df3['DISTANCE'].str.split(\",\",expand=True)\n",
        "df3['DISTANCE_2']= pd.to_numeric(df3['DISTANCE_2'])\n",
        "df3[['HAUL_TYPE','DISTANCE','DISTANCE_2','DISTANCE_REST']].head(10)"
      ],
      "execution_count": 0,
      "outputs": []
    },
    {
      "cell_type": "code",
      "metadata": {
        "id": "ck_pA2QIAIkx",
        "colab_type": "code",
        "colab": {}
      },
      "source": [
        "df3.groupby('HAUL_TYPE').agg({'DISTANCE_2': ['max', 'min', 'median', 'mean']})"
      ],
      "execution_count": 0,
      "outputs": []
    },
    {
      "cell_type": "markdown",
      "metadata": {
        "id": "huvfr3jfAtbQ",
        "colab_type": "text"
      },
      "source": [
        "Alguma coisa errada com os valores mínimos. Não faz sentido DOMESTIC= 0. Muito menos INTERCONTINENTAL= 0. Vamos investigar um pouco mais isso a seguir. No entanto, vou trabalhar com DISTANCE_2 e desconsiderar DISTANCE_REST."
      ]
    },
    {
      "cell_type": "code",
      "metadata": {
        "id": "uQ2buWxxBEGx",
        "colab_type": "code",
        "colab": {}
      },
      "source": [
        "df4= df3.copy()\n",
        "df4= df4.drop(columns= ['DISTANCE_REST','DISTANCE', 'IS_ARRIVAL_BEFORE_DEPARTURE'], axis= 1)\n",
        "df4= df4.rename({'DISTANCE_2': 'DISTANCE'}, axis=1)\n",
        "df4.head()"
      ],
      "execution_count": 0,
      "outputs": []
    },
    {
      "cell_type": "code",
      "metadata": {
        "id": "jaKP87NP9NBs",
        "colab_type": "code",
        "colab": {}
      },
      "source": [
        "# Investigando DISTANCE = 0\n",
        "df4[df4['DISTANCE']==0].count()"
      ],
      "execution_count": 0,
      "outputs": []
    },
    {
      "cell_type": "markdown",
      "metadata": {
        "id": "mq8626SFDzW1",
        "colab_type": "text"
      },
      "source": [
        "Há 170 registros em que DISTANCE= 0. Eu considero estes registros como Missing Values. Como tratamento, proponho atribuir à estes casos a mediana segmentado por HAUL_TYPE. Ou seja"
      ]
    },
    {
      "cell_type": "code",
      "metadata": {
        "id": "n-1Uh4bHDj8M",
        "colab_type": "code",
        "colab": {}
      },
      "source": [
        "median_by__HAUL_TYPE= pd.df4.groupby('HAUL_TYPE')['DISTANCE'].median()\n",
        "median_by__HAUL_TYPE"
      ],
      "execution_count": 0,
      "outputs": []
    },
    {
      "cell_type": "markdown",
      "metadata": {
        "id": "F-78FqEpEQzb",
        "colab_type": "text"
      },
      "source": [
        "Vou atribuir o valor 1236 para os Missing values do CONTINENTAL, 632 para os MV do DOMESTIC e 4193 para os MV do INTERCONTINENTAL."
      ]
    },
    {
      "cell_type": "code",
      "metadata": {
        "id": "1adzZo47EwjN",
        "colab_type": "code",
        "colab": {}
      },
      "source": [
        "# Identificando os MV. No caso, zeros\n",
        "df4.loc[df4['DISTANCE'] == 0, 'DISTANCE']= np.nan\n",
        "\n",
        "# Checking Missing Values\n",
        "df4.isna().sum()"
      ],
      "execution_count": 0,
      "outputs": []
    },
    {
      "cell_type": "markdown",
      "metadata": {
        "id": "RaAjeTcnH24a",
        "colab_type": "text"
      },
      "source": [
        "Vamos tratar os MV da coluna DISTANCE  e DEVICE a seguir:"
      ]
    },
    {
      "cell_type": "code",
      "metadata": {
        "id": "WI65Yk3VIK48",
        "colab_type": "code",
        "colab": {}
      },
      "source": [
        "mask = (df4['HAUL_TYPE'] == 'DOMESTIC') & (df4['DISTANCE'].isna())\n",
        "df4['DISTANCE'] = median_by__HAUL_TYPE[1].mask(mask, df4['DISTANCE'])\n",
        "\n",
        "#df4['DISTANCE'][(df4['HAUL_TYPE'] == 'DOMESTIC') & (df4['DISTANCE'].isna())] = median_by__HAUL_TYPE[1]\n",
        "#median_by__HAUL_TYPE[1]"
      ],
      "execution_count": 0,
      "outputs": []
    },
    {
      "cell_type": "code",
      "metadata": {
        "id": "shYzhyegNWJz",
        "colab_type": "code",
        "colab": {}
      },
      "source": [
        "df4['DISTANCE'].isna()"
      ],
      "execution_count": 0,
      "outputs": []
    },
    {
      "cell_type": "code",
      "metadata": {
        "id": "c-2z3H5hJ9V9",
        "colab_type": "code",
        "colab": {}
      },
      "source": [
        ""
      ],
      "execution_count": 0,
      "outputs": []
    }
  ]
}