{
  "nbformat": 4,
  "nbformat_minor": 0,
  "metadata": {
    "colab": {
      "name": "Untitled23.ipynb",
      "provenance": [],
      "private_outputs": true,
      "include_colab_link": true
    },
    "kernelspec": {
      "name": "python3",
      "display_name": "Python 3"
    }
  },
  "cells": [
    {
      "cell_type": "markdown",
      "metadata": {
        "id": "view-in-github",
        "colab_type": "text"
      },
      "source": [
        "<a href=\"https://colab.research.google.com/github/MathMachado/eDreams/blob/master/Test.ipynb\" target=\"_parent\"><img src=\"https://colab.research.google.com/assets/colab-badge.svg\" alt=\"Open In Colab\"/></a>"
      ]
    },
    {
      "cell_type": "markdown",
      "metadata": {
        "id": "17LuXi1voKCf",
        "colab_type": "text"
      },
      "source": [
        "# Import main Python libraries\n",
        "\n"
      ]
    },
    {
      "cell_type": "code",
      "metadata": {
        "id": "fQy1h2RVoVxf",
        "colab_type": "code",
        "colab": {}
      },
      "source": [
        "!pip install bamboolib"
      ],
      "execution_count": 0,
      "outputs": []
    },
    {
      "cell_type": "code",
      "metadata": {
        "id": "aIMVpjquns-S",
        "colab_type": "code",
        "colab": {}
      },
      "source": [
        "import pandas as pd\n",
        "import numpy as np\n",
        "\n",
        "import matplotlib\n",
        "import bamboolib\n",
        "import matplotlib.pyplot as plt\n",
        "import seaborn as sns\n",
        "%matplotlib inline"
      ],
      "execution_count": 0,
      "outputs": []
    },
    {
      "cell_type": "code",
      "metadata": {
        "id": "tWfL-XJFnZIp",
        "colab_type": "code",
        "colab": {}
      },
      "source": [
        "url= \"https://raw.githubusercontent.com/MathMachado/eDreams/master/Dataframes/train.csv?token=AGDJQ67D2WENLE2YEMFJBPC5SHK26\"\n",
        "df= pd.read_csv(url, sep= \";\", index_col='ID', parse_dates = ['DEPARTURE', 'ARRIVAL'])\n",
        "df.head()"
      ],
      "execution_count": 0,
      "outputs": []
    },
    {
      "cell_type": "code",
      "metadata": {
        "id": "DWPMAIX1vMuM",
        "colab_type": "code",
        "colab": {}
      },
      "source": [
        "df.info()"
      ],
      "execution_count": 0,
      "outputs": []
    },
    {
      "cell_type": "code",
      "metadata": {
        "id": "myZk676JnqrI",
        "colab_type": "code",
        "colab": {}
      },
      "source": [
        "# Treating date type columns\n",
        "from datetime import date, datetime\n",
        "d_Months= {'January': 1, 'February': 2, 'March': 3, 'April': 4, 'May': 5, 'June': 6, 'July': 7, 'August': 8, 'September': 9, 'October': 10, 'November': 11, 'December': 12}\n",
        "\n",
        "df2= df.copy()\n",
        "\n",
        "df2['DEPARTURE_DAY'], df2['DEPARTURE_MONTH'] = df['DEPARTURE'].str.split('/', 1).str\n",
        "df2['ARRIVAL_DAY'], df2['ARRIVAL_MONTH'] = df['ARRIVAL'].str.split('/', 1).str\n",
        "\n",
        "df2['DEPARTURE_DAY']= df2['DEPARTURE_DAY'].astype(int)\n",
        "df2['ARRIVAL_DAY']= df2['ARRIVAL_DAY'].astype(int)\n",
        "\n",
        "df2['DEPARTURE_MONTH_']= df2['DEPARTURE_MONTH'].map(d_Months)\n",
        "df2['ARRIVAL_MONTH_']= df2['ARRIVAL_MONTH'].map(d_Months)\n",
        "\n",
        "# I'll consider all the transations were made in 2018 and I'll adjust the year later on\n",
        "df2['DEPARTURE_YEAR']= 2018\n",
        "df2['ARRIVAL_YEAR']= 2018\n",
        "\n",
        "df2= df2.drop(columns= ['DEPARTURE', 'ARRIVAL'], axis= 1)\n",
        "\n",
        "#df2['DEPARTURE']= datetime.datetime(2018, 9, 15)\n",
        "df2['DEPARTURE']= datetime(df2['DEPARTURE_YEAR'], df2['DEPARTURE_MONTH_'], df2['DEPARTURE_DAY'])\n",
        "\n",
        "#df2['DEPARTURE']= df2['DEPARTURE_DAY']+'/'+df2['DEPARTURE_MONTH_']+'/'+df2['DEPARTURE_YEAR']\n",
        "#df2['ARRIVAL']= df2['ARRIVAL_DAY']+'/'+df2['ARRIVAL_MONTH_']+'/'+df2['ARRIVAL_YEAR']\n",
        "\n",
        "#df2= df2.drop(columns= ['ARRIVAL_MONTH', 'ARRIVAL_MONTH_', 'DEPARTURE_MONTH', 'DEPARTURE_MONTH_', 'DEPARTURE_YEAR', 'ARRIVAL_YEAR'], axis= 1)\n",
        "\n",
        "df2.info()"
      ],
      "execution_count": 0,
      "outputs": []
    },
    {
      "cell_type": "code",
      "metadata": {
        "id": "_9CUQO2kZa89",
        "colab_type": "code",
        "colab": {}
      },
      "source": [
        "df2.head()"
      ],
      "execution_count": 0,
      "outputs": []
    },
    {
      "cell_type": "code",
      "metadata": {
        "id": "u60UzUiPDGq5",
        "colab_type": "code",
        "colab": {}
      },
      "source": [
        "df2['TIMESTAMP'].value_counts()"
      ],
      "execution_count": 0,
      "outputs": []
    },
    {
      "cell_type": "markdown",
      "metadata": {
        "id": "T0y1M3huDHJt",
        "colab_type": "text"
      },
      "source": [
        "As we can see above, all rows of the dataframe refers to July."
      ]
    },
    {
      "cell_type": "code",
      "metadata": {
        "id": "_L2u5x-aDQv0",
        "colab_type": "code",
        "colab": {}
      },
      "source": [
        "df2['DEPARTURE'].value_counts()"
      ],
      "execution_count": 0,
      "outputs": []
    },
    {
      "cell_type": "code",
      "metadata": {
        "id": "IT02aSTbDa6V",
        "colab_type": "code",
        "colab": {}
      },
      "source": [
        "df2['ARRIVAL'].value_counts()"
      ],
      "execution_count": 0,
      "outputs": []
    },
    {
      "cell_type": "markdown",
      "metadata": {
        "id": "BKhw0B64ETM0",
        "colab_type": "text"
      },
      "source": [
        "Verificar se alguém viajou em novembro e chegou em janeiro"
      ]
    },
    {
      "cell_type": "code",
      "metadata": {
        "id": "aNGWYzhMuTJm",
        "colab_type": "code",
        "colab": {}
      },
      "source": [
        "df2.info()"
      ],
      "execution_count": 0,
      "outputs": []
    },
    {
      "cell_type": "code",
      "metadata": {
        "id": "Jj3hAuvm4luL",
        "colab_type": "code",
        "colab": {}
      },
      "source": [
        ""
      ],
      "execution_count": 0,
      "outputs": []
    }
  ]
}